{
 "cells": [
  {
   "cell_type": "code",
   "execution_count": 1,
   "metadata": {},
   "outputs": [],
   "source": [
    "import pandas as pd\n",
    "import numpy as np\n",
    "import sklearn as sk\n",
    "import matplotlib.pyplot as plt"
   ]
  },
  {
   "cell_type": "code",
   "execution_count": 2,
   "metadata": {},
   "outputs": [],
   "source": [
    "from sklearn.datasets import make_blobs\n",
    "from sklearn.metrics import silhouette_score\n",
    "from sklearn.cluster import KMeans\n",
    "from sklearn.metrics import pairwise_distances, pairwise_distances_argmin"
   ]
  },
  {
   "cell_type": "code",
   "execution_count": 3,
   "metadata": {},
   "outputs": [
    {
     "data": {
      "image/png": "[encoded data removed]",
      "text/plain": [
       "<Figure size 640x480 with 1 Axes>"
      ]
     },
     "metadata": {},
     "output_type": "display_data"
    }
   ],
   "source": [
    "X,y_true = make_blobs(n_samples=300,centers=4,cluster_std=0.60,random_state=0)\n",
    "plt.scatter(X[:,0],X[:,1]);"
   ]
  },
  {
   "cell_type": "code",
   "execution_count": 4,
   "metadata": {},
   "outputs": [
    {
     "name": "stderr",
     "output_type": "stream",
     "text": [
      "/opt/anaconda3/lib/python3.8/site-packages/sklearn/cluster/_kmeans.py:1412: FutureWarning: The default value of `n_init` will change from 10 to 'auto' in 1.4. Set the value of `n_init` explicitly to suppress the warning\n",
      "  super()._check_params_vs_input(X, default_n_init=10)\n",
      "/opt/anaconda3/lib/python3.8/site-packages/threadpoolctl.py:1019: RuntimeWarning: libc not found. The ctypes module in Python 3.8 is maybe too old for this OS.\n",
      "  warnings.warn(\n"
     ]
    },
    {
     "data": {
      "text/html": [
       "<style>#sk-container-id-1 {color: black;}#sk-container-id-1 pre{padding: 0;}#sk-container-id-1 div.sk-toggleable {background-color: white;}#sk-container-id-1 label.sk-toggleable__label {cursor: pointer;display: block;width: 100%;margin-bottom: 0;padding: 0.3em;box-sizing: border-box;text-align: center;}#sk-container-id-1 label.sk-toggleable__label-arrow:before {content: \"▸\";float: left;margin-right: 0.25em;color: #696969;}#sk-container-id-1 label.sk-toggleable__label-arrow:hover:before {color: black;}#sk-container-id-1 div.sk-estimator:hover label.sk-toggleable__label-arrow:before {color: black;}#sk-container-id-1 div.sk-toggleable__content {max-height: 0;max-width: 0;overflow: hidden;text-align: left;background-color: #f0f8ff;}#sk-container-id-1 div.sk-toggleable__content pre {margin: 0.2em;color: black;border-radius: 0.25em;background-color: #f0f8ff;}#sk-container-id-1 input.sk-toggleable__control:checked~div.sk-toggleable__content {max-height: 200px;max-width: 100%;overflow: auto;}#sk-container-id-1 input.sk-toggleable__control:checked~label.sk-toggleable__label-arrow:before {content: \"▾\";}#sk-container-id-1 div.sk-estimator input.sk-toggleable__control:checked~label.sk-toggleable__label {background-color: #d4ebff;}#sk-container-id-1 div.sk-label input.sk-toggleable__control:checked~label.sk-toggleable__label {background-color: #d4ebff;}#sk-container-id-1 input.sk-hidden--visually {border: 0;clip: rect(1px 1px 1px 1px);clip: rect(1px, 1px, 1px, 1px);height: 1px;margin: -1px;overflow: hidden;padding: 0;position: absolute;width: 1px;}#sk-container-id-1 div.sk-estimator {font-family: monospace;background-color: #f0f8ff;border: 1px dotted black;border-radius: 0.25em;box-sizing: border-box;margin-bottom: 0.5em;}#sk-container-id-1 div.sk-estimator:hover {background-color: #d4ebff;}#sk-container-id-1 div.sk-parallel-item::after {content: \"\";width: 100%;border-bottom: 1px solid gray;flex-grow: 1;}#sk-container-id-1 div.sk-label:hover label.sk-toggleable__label {background-color: #d4ebff;}#sk-container-id-1 div.sk-serial::before {content: \"\";position: absolute;border-left: 1px solid gray;box-sizing: border-box;top: 0;bottom: 0;left: 50%;z-index: 0;}#sk-container-id-1 div.sk-serial {display: flex;flex-direction: column;align-items: center;background-color: white;padding-right: 0.2em;padding-left: 0.2em;position: relative;}#sk-container-id-1 div.sk-item {position: relative;z-index: 1;}#sk-container-id-1 div.sk-parallel {display: flex;align-items: stretch;justify-content: center;background-color: white;position: relative;}#sk-container-id-1 div.sk-item::before, #sk-container-id-1 div.sk-parallel-item::before {content: \"\";position: absolute;border-left: 1px solid gray;box-sizing: border-box;top: 0;bottom: 0;left: 50%;z-index: -1;}#sk-container-id-1 div.sk-parallel-item {display: flex;flex-direction: column;z-index: 1;position: relative;background-color: white;}#sk-container-id-1 div.sk-parallel-item:first-child::after {align-self: flex-end;width: 50%;}#sk-container-id-1 div.sk-parallel-item:last-child::after {align-self: flex-start;width: 50%;}#sk-container-id-1 div.sk-parallel-item:only-child::after {width: 0;}#sk-container-id-1 div.sk-dashed-wrapped {border: 1px dashed gray;margin: 0 0.4em 0.5em 0.4em;box-sizing: border-box;padding-bottom: 0.4em;background-color: white;}#sk-container-id-1 div.sk-label label {font-family: monospace;font-weight: bold;display: inline-block;line-height: 1.2em;}#sk-container-id-1 div.sk-label-container {text-align: center;}#sk-container-id-1 div.sk-container {/* jupyter's `normalize.less` sets `[hidden] { display: none; }` but bootstrap.min.css set `[hidden] { display: none !important; }` so we also need the `!important` here to be able to override the default hidden behavior on the sphinx rendered scikit-learn.org. See: https://github.com/scikit-learn/scikit-learn/issues/21755 */display: inline-block !important;position: relative;}#sk-container-id-1 div.sk-text-repr-fallback {display: none;}</style><div id=\"sk-container-id-1\" class=\"sk-top-container\"><div class=\"sk-text-repr-fallback\"><pre>KMeans(n_clusters=4)</pre><b>In a Jupyter environment, please rerun this cell to show the HTML representation or trust the notebook. <br />On GitHub, the HTML representation is unable to render, please try loading this page with nbviewer.org.</b></div><div class=\"sk-container\" hidden><div class=\"sk-item\"><div class=\"sk-estimator sk-toggleable\"><input class=\"sk-toggleable__control sk-hidden--visually\" id=\"sk-estimator-id-1\" type=\"checkbox\" checked><label for=\"sk-estimator-id-1\" class=\"sk-toggleable__label sk-toggleable__label-arrow\">KMeans</label><div class=\"sk-toggleable__content\"><pre>KMeans(n_clusters=4)</pre></div></div></div></div></div>"
      ],
      "text/plain": [
       "KMeans(n_clusters=4)"
      ]
     },
     "execution_count": 4,
     "metadata": {},
     "output_type": "execute_result"
    }
   ],
   "source": [
    "kmeans=KMeans(n_clusters=4)\n",
    "kmeans.fit(X)"
   ]
  },
  {
   "cell_type": "code",
   "execution_count": 5,
   "metadata": {},
   "outputs": [
    {
     "name": "stdout",
     "output_type": "stream",
     "text": [
      "[[ 1.98258281  0.86771314]\n",
      " [-1.37324398  7.75368871]\n",
      " [ 0.94973532  4.41906906]\n",
      " [-1.58438467  2.83081263]]\n",
      "[0 1 2 1 0 0 3 2 1 1 3 1 2 1 0 2 2 0 3 3 0 0 2 3 3 2 0 2 3 2 1 1 2 1 1 1 1\n",
      " 1 3 0 2 3 2 2 3 3 1 3 1 0 3 0 1 0 0 3 1 3 1 0 1 2 1 3 3 3 1 0 1 3 2 3 1 3\n",
      " 3 1 3 2 0 1 0 2 0 0 1 2 0 2 1 1 2 0 1 3 3 2 0 0 2 3 1 0 1 0 2 0 0 2 1 2 3\n",
      " 3 0 1 0 2 1 0 0 2 3 0 3 0 0 0 0 3 0 3 1 3 3 0 1 3 3 1 2 1 1 3 2 3 2 3 1 2\n",
      " 1 1 1 2 1 2 0 3 1 3 0 2 1 2 2 0 2 3 3 2 0 2 2 1 0 2 3 1 0 0 2 3 0 2 3 3 2\n",
      " 2 2 2 0 1 2 3 2 2 3 3 3 2 3 1 2 3 0 3 2 1 3 1 2 1 2 3 2 2 1 3 3 0 0 2 1 0\n",
      " 0 3 0 3 2 1 1 2 2 1 2 0 3 2 0 3 1 3 0 2 0 1 1 1 1 3 3 1 2 3 0 2 3 3 3 0 0\n",
      " 1 2 2 3 0 1 3 2 1 2 0 0 3 3 2 0 0 0 2 1 1 0 0 2 0 0 0 1 3 1 2 0 0 1 1 1 0\n",
      " 0 2 1 3]\n"
     ]
    }
   ],
   "source": [
    "print(kmeans.cluster_centers_)\n",
    "print(kmeans.labels_)"
   ]
  },
  {
   "cell_type": "code",
   "execution_count": 6,
   "metadata": {},
   "outputs": [
    {
     "name": "stdout",
     "output_type": "stream",
     "text": [
      "record_count is 300\n"
     ]
    }
   ],
   "source": [
    "rnd=np.random.RandomState(42)\n",
    "record_count=X.shape[0]\n",
    "print(f\"record_count is {record_count}\")\n",
    "all_indices=rnd.permutation(record_count)\n"
   ]
  },
  {
   "cell_type": "code",
   "execution_count": 7,
   "metadata": {},
   "outputs": [
    {
     "data": {
      "text/plain": [
       "array([[-1.80701134,  2.06773859],\n",
       "       [ 1.4949318 ,  3.85848832],\n",
       "       [-0.60133739,  6.29994922],\n",
       "       [-0.71109961,  8.66043846]])"
      ]
     },
     "execution_count": 7,
     "metadata": {},
     "output_type": "execute_result"
    }
   ],
   "source": [
    "X[all_indices[:4]]"
   ]
  },
  {
   "cell_type": "code",
   "execution_count": 8,
   "metadata": {},
   "outputs": [],
   "source": [
    "def get_random_centroids(X,cluster_count):\n",
    "    rnd=np.random.RandomState(42)\n",
    "    record_count=X.shape[0]\n",
    "    print(f\"record_count is {record_count}\")\n",
    "    permutations=rnd.permutation(record_count)\n",
    "    random_centroid_idx=permutations[:cluster_count]\n",
    "    return X[random_centroid_idx]"
   ]
  },
  {
   "cell_type": "code",
   "execution_count": 9,
   "metadata": {},
   "outputs": [
    {
     "name": "stdout",
     "output_type": "stream",
     "text": [
      "record_count is 300\n"
     ]
    },
    {
     "data": {
      "text/plain": [
       "array([[-1.80701134,  2.06773859],\n",
       "       [ 1.4949318 ,  3.85848832],\n",
       "       [-0.60133739,  6.29994922],\n",
       "       [-0.71109961,  8.66043846]])"
      ]
     },
     "execution_count": 9,
     "metadata": {},
     "output_type": "execute_result"
    }
   ],
   "source": [
    "num_clusters=4\n",
    "centroids=get_random_centroids(X,4)\n",
    "centroids"
   ]
  },
  {
   "cell_type": "code",
   "execution_count": 10,
   "metadata": {},
   "outputs": [
    {
     "data": {
      "text/plain": [
       "array([[2.64475855, 1.84358095, 4.40498388, 6.70520522],\n",
       "       [5.35634748, 4.59025646, 1.37522411, 1.43461742],\n",
       "       [4.23875818, 1.28678433, 2.12750139, 4.0202685 ],\n",
       "       ...,\n",
       "       [3.33713735, 1.25456703, 2.04793782, 4.28185545],\n",
       "       [6.12323723, 4.09049147, 1.77933415, 1.38686325],\n",
       "       [0.68210773, 3.46840534, 3.74444601, 6.00869115]])"
      ]
     },
     "execution_count": 10,
     "metadata": {},
     "output_type": "execute_result"
    }
   ],
   "source": [
    "blob_centroid_dists=pairwise_distances(X,centroids)\n",
    "blob_centroid_dists"
   ]
  },
  {
   "cell_type": "code",
   "execution_count": 11,
   "metadata": {},
   "outputs": [
    {
     "data": {
      "text/plain": [
       "array([1, 2, 1, 3, 1, 1, 0, 1, 3, 3, 0, 3, 1, 2, 0, 1, 1, 1, 0, 0, 1, 1,\n",
       "       1, 0, 0, 2, 1, 1, 0, 1, 3, 2, 1, 2, 3, 3, 3, 3, 0, 1, 1, 0, 2, 1,\n",
       "       0, 0, 3, 0, 3, 1, 0, 1, 3, 1, 1, 0, 3, 0, 3, 1, 2, 1, 3, 0, 0, 0,\n",
       "       3, 1, 3, 0, 1, 0, 3, 0, 0, 3, 0, 1, 1, 3, 0, 1, 1, 1, 3, 1, 1, 1,\n",
       "       2, 3, 1, 1, 3, 0, 0, 1, 1, 1, 2, 0, 3, 0, 3, 1, 1, 1, 1, 1, 2, 1,\n",
       "       0, 0, 1, 3, 1, 1, 3, 1, 1, 2, 0, 1, 0, 1, 1, 1, 1, 0, 1, 0, 3, 0,\n",
       "       0, 1, 2, 0, 0, 3, 1, 2, 3, 0, 1, 0, 1, 0, 2, 1, 2, 3, 3, 1, 2, 1,\n",
       "       1, 0, 3, 0, 1, 1, 3, 1, 1, 1, 1, 0, 0, 2, 1, 1, 1, 3, 1, 1, 0, 3,\n",
       "       1, 1, 1, 0, 1, 1, 0, 0, 1, 1, 1, 1, 1, 2, 1, 0, 1, 1, 0, 0, 0, 1,\n",
       "       0, 3, 1, 0, 1, 0, 1, 2, 0, 3, 1, 2, 1, 0, 1, 1, 3, 0, 0, 1, 1, 1,\n",
       "       3, 1, 1, 0, 1, 0, 1, 2, 3, 1, 1, 3, 1, 0, 0, 1, 1, 0, 3, 0, 1, 1,\n",
       "       1, 3, 3, 2, 3, 0, 0, 2, 1, 0, 1, 1, 0, 0, 1, 1, 1, 3, 1, 1, 0, 1,\n",
       "       3, 0, 1, 3, 2, 1, 1, 0, 0, 1, 1, 1, 1, 1, 3, 3, 1, 1, 1, 1, 1, 1,\n",
       "       2, 0, 3, 1, 1, 1, 2, 3, 3, 1, 1, 1, 3, 0])"
      ]
     },
     "execution_count": 11,
     "metadata": {},
     "output_type": "execute_result"
    }
   ],
   "source": [
    "np.argmin(blob_centroid_dists,axis=1)"
   ]
  },
  {
   "cell_type": "code",
   "execution_count": 13,
   "metadata": {},
   "outputs": [
    {
     "data": {
      "text/plain": [
       "array([1, 2, 1, 3, 1, 1, 0, 1, 3, 3, 0, 3, 1, 2, 0, 1, 1, 1, 0, 0, 1, 1,\n",
       "       1, 0, 0, 2, 1, 1, 0, 1, 3, 2, 1, 2, 3, 3, 3, 3, 0, 1, 1, 0, 2, 1,\n",
       "       0, 0, 3, 0, 3, 1, 0, 1, 3, 1, 1, 0, 3, 0, 3, 1, 2, 1, 3, 0, 0, 0,\n",
       "       3, 1, 3, 0, 1, 0, 3, 0, 0, 3, 0, 1, 1, 3, 0, 1, 1, 1, 3, 1, 1, 1,\n",
       "       2, 3, 1, 1, 3, 0, 0, 1, 1, 1, 2, 0, 3, 0, 3, 1, 1, 1, 1, 1, 2, 1,\n",
       "       0, 0, 1, 3, 1, 1, 3, 1, 1, 2, 0, 1, 0, 1, 1, 1, 1, 0, 1, 0, 3, 0,\n",
       "       0, 1, 2, 0, 0, 3, 1, 2, 3, 0, 1, 0, 1, 0, 2, 1, 2, 3, 3, 1, 2, 1,\n",
       "       1, 0, 3, 0, 1, 1, 3, 1, 1, 1, 1, 0, 0, 2, 1, 1, 1, 3, 1, 1, 0, 3,\n",
       "       1, 1, 1, 0, 1, 1, 0, 0, 1, 1, 1, 1, 1, 2, 1, 0, 1, 1, 0, 0, 0, 1,\n",
       "       0, 3, 1, 0, 1, 0, 1, 2, 0, 3, 1, 2, 1, 0, 1, 1, 3, 0, 0, 1, 1, 1,\n",
       "       3, 1, 1, 0, 1, 0, 1, 2, 3, 1, 1, 3, 1, 0, 0, 1, 1, 0, 3, 0, 1, 1,\n",
       "       1, 3, 3, 2, 3, 0, 0, 2, 1, 0, 1, 1, 0, 0, 1, 1, 1, 3, 1, 1, 0, 1,\n",
       "       3, 0, 1, 3, 2, 1, 1, 0, 0, 1, 1, 1, 1, 1, 3, 3, 1, 1, 1, 1, 1, 1,\n",
       "       2, 0, 3, 1, 1, 1, 2, 3, 3, 1, 1, 1, 3, 0])"
      ]
     },
     "execution_count": 13,
     "metadata": {},
     "output_type": "execute_result"
    }
   ],
   "source": [
    "cluster_memberships=pairwise_distances_argmin(X,centroids)\n",
    "cluster_memberships"
   ]
  },
  {
   "cell_type": "code",
   "execution_count": 14,
   "metadata": {},
   "outputs": [
    {
     "data": {
      "text/plain": [
       "array([False, False, False, False, False, False,  True, False, False,\n",
       "       False,  True, False, False, False,  True, False, False, False,\n",
       "        True,  True, False, False, False,  True,  True, False, False,\n",
       "       False,  True, False, False, False, False, False, False, False,\n",
       "       False, False,  True, False, False,  True, False, False,  True,\n",
       "        True, False,  True, False, False,  True, False, False, False,\n",
       "       False,  True, False,  True, False, False, False, False, False,\n",
       "        True,  True,  True, False, False, False,  True, False,  True,\n",
       "       False,  True,  True, False,  True, False, False, False,  True,\n",
       "       False, False, False, False, False, False, False, False, False,\n",
       "       False, False, False,  True,  True, False, False, False, False,\n",
       "        True, False,  True, False, False, False, False, False, False,\n",
       "       False, False,  True,  True, False, False, False, False, False,\n",
       "       False, False, False,  True, False,  True, False, False, False,\n",
       "       False,  True, False,  True, False,  True,  True, False, False,\n",
       "        True,  True, False, False, False, False,  True, False,  True,\n",
       "       False,  True, False, False, False, False, False, False, False,\n",
       "       False, False,  True, False,  True, False, False, False, False,\n",
       "       False, False, False,  True,  True, False, False, False, False,\n",
       "       False, False, False,  True, False, False, False, False,  True,\n",
       "       False, False,  True,  True, False, False, False, False, False,\n",
       "       False, False,  True, False, False,  True,  True,  True, False,\n",
       "        True, False, False,  True, False,  True, False, False,  True,\n",
       "       False, False, False, False,  True, False, False, False,  True,\n",
       "        True, False, False, False, False, False, False,  True, False,\n",
       "        True, False, False, False, False, False, False, False,  True,\n",
       "        True, False, False,  True, False,  True, False, False, False,\n",
       "       False, False, False, False,  True,  True, False, False,  True,\n",
       "       False, False,  True,  True, False, False, False, False, False,\n",
       "       False,  True, False, False,  True, False, False, False, False,\n",
       "       False,  True,  True, False, False, False, False, False, False,\n",
       "       False, False, False, False, False, False, False, False,  True,\n",
       "       False, False, False, False, False, False, False, False, False,\n",
       "       False, False,  True])"
      ]
     },
     "execution_count": 14,
     "metadata": {},
     "output_type": "execute_result"
    }
   ],
   "source": [
    "cluster_memberships==0"
   ]
  },
  {
   "cell_type": "code",
   "execution_count": 15,
   "metadata": {},
   "outputs": [
    {
     "data": {
      "text/plain": [
       "array([[-1.80822253,  1.59701749],\n",
       "       [-1.71237268,  2.77780226],\n",
       "       [ 1.45513831, -0.029199  ],\n",
       "       [-1.0669061 ,  3.13165795],\n",
       "       [-1.07859101,  2.20451529],\n",
       "       [-1.99648151,  2.85164868],\n",
       "       [-1.91828017,  2.60516867],\n",
       "       [-2.88024255,  2.30437816],\n",
       "       [-2.2029995 ,  2.47947561],\n",
       "       [-1.98539037,  2.05520738],\n",
       "       [-1.70200643,  2.46098693],\n",
       "       [-1.02192525,  2.76820711],\n",
       "       [-1.55220688,  2.74574995],\n",
       "       [-1.94972418,  3.4838387 ],\n",
       "       [-1.11064012,  2.8221382 ],\n",
       "       [-1.14091533,  1.97550822],\n",
       "       [-1.03819212,  2.95323761],\n",
       "       [-2.10956676,  3.10677258],\n",
       "       [-1.18652985,  2.7842772 ],\n",
       "       [-1.49720702,  3.21418433],\n",
       "       [-0.4872713 ,  3.32858293],\n",
       "       [-1.60496819,  2.9742542 ],\n",
       "       [-1.50372568,  1.9238532 ],\n",
       "       [-1.7578319 ,  2.97449321],\n",
       "       [ 1.25471244,  0.08963316],\n",
       "       [-1.74572014,  3.01190457],\n",
       "       [-1.17979111,  3.12767494],\n",
       "       [-3.12240736,  3.28167398],\n",
       "       [ 1.66909648, -0.43637823],\n",
       "       [-1.06295223,  2.20755388],\n",
       "       [-1.60712495,  3.56452854],\n",
       "       [-0.53802305,  3.01641891],\n",
       "       [-1.01214966,  3.60254338],\n",
       "       [-1.35863899,  2.32200809],\n",
       "       [-1.73896306,  1.94799775],\n",
       "       [-1.63793622,  2.43329317],\n",
       "       [-1.68754414,  2.24107546],\n",
       "       [-1.25245465,  2.33911505],\n",
       "       [-2.39482483,  3.39806103],\n",
       "       [-1.04656513,  2.96483837],\n",
       "       [-1.62150422,  4.27191636],\n",
       "       [-1.7640414 ,  2.22222995],\n",
       "       [-1.03395259,  2.92105785],\n",
       "       [-1.88609638,  2.24834407],\n",
       "       [-2.63274574,  2.63109786],\n",
       "       [-0.96107636,  1.27407596],\n",
       "       [-1.32356154,  4.1305084 ],\n",
       "       [-0.96779499,  3.12186125],\n",
       "       [-2.22131717,  2.73050691],\n",
       "       [-1.57846247,  3.03445802],\n",
       "       [-1.00140436,  2.84881778],\n",
       "       [-2.11821046,  2.03478126],\n",
       "       [-1.3621942 ,  2.38333321],\n",
       "       [-2.78366586,  2.99211541],\n",
       "       [-1.93960658,  2.18943582],\n",
       "       [-0.96920095,  3.26721702],\n",
       "       [-1.80701134,  2.06773859],\n",
       "       [-1.56387985,  2.8534991 ],\n",
       "       [-1.64129611,  2.68097255],\n",
       "       [-0.7081849 ,  2.50421275],\n",
       "       [-0.88579837,  2.64585078],\n",
       "       [-2.58043836,  3.18844294],\n",
       "       [-2.58802708,  3.13117134],\n",
       "       [ 0.89349964,  1.01093082],\n",
       "       [-1.10782972,  2.92014479],\n",
       "       [-1.24902582,  3.08533972],\n",
       "       [-1.86849125,  3.07982487],\n",
       "       [-1.65104622,  3.44598961],\n",
       "       [-1.30440901,  3.00311934],\n",
       "       [-1.53631328,  3.01443916],\n",
       "       [-1.8146975 ,  3.29009724],\n",
       "       [-1.93731055,  3.91361274],\n",
       "       [-2.15968109,  3.41003096],\n",
       "       [-1.00552592,  3.0840054 ],\n",
       "       [-2.5457675 ,  3.15025055],\n",
       "       [-1.95866665,  2.43008647],\n",
       "       [-0.64695678,  3.42941343],\n",
       "       [-1.79145759,  2.74966896]])"
      ]
     },
     "execution_count": 15,
     "metadata": {},
     "output_type": "execute_result"
    }
   ],
   "source": [
    "X[cluster_memberships==0]"
   ]
  },
  {
   "cell_type": "code",
   "execution_count": 16,
   "metadata": {},
   "outputs": [],
   "source": [
    "clusters=[X[cluster_memberships==i] for i in range(0,num_clusters)]"
   ]
  },
  {
   "cell_type": "code",
   "execution_count": 17,
   "metadata": {},
   "outputs": [
    {
     "data": {
      "text/plain": [
       "4"
      ]
     },
     "execution_count": 17,
     "metadata": {},
     "output_type": "execute_result"
    }
   ],
   "source": [
    "len(clusters)"
   ]
  },
  {
   "cell_type": "code",
   "execution_count": 18,
   "metadata": {},
   "outputs": [
    {
     "data": {
      "text/plain": [
       "[array([[-1.80822253,  1.59701749],\n",
       "        [-1.71237268,  2.77780226],\n",
       "        [ 1.45513831, -0.029199  ],\n",
       "        [-1.0669061 ,  3.13165795],\n",
       "        [-1.07859101,  2.20451529],\n",
       "        [-1.99648151,  2.85164868],\n",
       "        [-1.91828017,  2.60516867],\n",
       "        [-2.88024255,  2.30437816],\n",
       "        [-2.2029995 ,  2.47947561],\n",
       "        [-1.98539037,  2.05520738],\n",
       "        [-1.70200643,  2.46098693],\n",
       "        [-1.02192525,  2.76820711],\n",
       "        [-1.55220688,  2.74574995],\n",
       "        [-1.94972418,  3.4838387 ],\n",
       "        [-1.11064012,  2.8221382 ],\n",
       "        [-1.14091533,  1.97550822],\n",
       "        [-1.03819212,  2.95323761],\n",
       "        [-2.10956676,  3.10677258],\n",
       "        [-1.18652985,  2.7842772 ],\n",
       "        [-1.49720702,  3.21418433],\n",
       "        [-0.4872713 ,  3.32858293],\n",
       "        [-1.60496819,  2.9742542 ],\n",
       "        [-1.50372568,  1.9238532 ],\n",
       "        [-1.7578319 ,  2.97449321],\n",
       "        [ 1.25471244,  0.08963316],\n",
       "        [-1.74572014,  3.01190457],\n",
       "        [-1.17979111,  3.12767494],\n",
       "        [-3.12240736,  3.28167398],\n",
       "        [ 1.66909648, -0.43637823],\n",
       "        [-1.06295223,  2.20755388],\n",
       "        [-1.60712495,  3.56452854],\n",
       "        [-0.53802305,  3.01641891],\n",
       "        [-1.01214966,  3.60254338],\n",
       "        [-1.35863899,  2.32200809],\n",
       "        [-1.73896306,  1.94799775],\n",
       "        [-1.63793622,  2.43329317],\n",
       "        [-1.68754414,  2.24107546],\n",
       "        [-1.25245465,  2.33911505],\n",
       "        [-2.39482483,  3.39806103],\n",
       "        [-1.04656513,  2.96483837],\n",
       "        [-1.62150422,  4.27191636],\n",
       "        [-1.7640414 ,  2.22222995],\n",
       "        [-1.03395259,  2.92105785],\n",
       "        [-1.88609638,  2.24834407],\n",
       "        [-2.63274574,  2.63109786],\n",
       "        [-0.96107636,  1.27407596],\n",
       "        [-1.32356154,  4.1305084 ],\n",
       "        [-0.96779499,  3.12186125],\n",
       "        [-2.22131717,  2.73050691],\n",
       "        [-1.57846247,  3.03445802],\n",
       "        [-1.00140436,  2.84881778],\n",
       "        [-2.11821046,  2.03478126],\n",
       "        [-1.3621942 ,  2.38333321],\n",
       "        [-2.78366586,  2.99211541],\n",
       "        [-1.93960658,  2.18943582],\n",
       "        [-0.96920095,  3.26721702],\n",
       "        [-1.80701134,  2.06773859],\n",
       "        [-1.56387985,  2.8534991 ],\n",
       "        [-1.64129611,  2.68097255],\n",
       "        [-0.7081849 ,  2.50421275],\n",
       "        [-0.88579837,  2.64585078],\n",
       "        [-2.58043836,  3.18844294],\n",
       "        [-2.58802708,  3.13117134],\n",
       "        [ 0.89349964,  1.01093082],\n",
       "        [-1.10782972,  2.92014479],\n",
       "        [-1.24902582,  3.08533972],\n",
       "        [-1.86849125,  3.07982487],\n",
       "        [-1.65104622,  3.44598961],\n",
       "        [-1.30440901,  3.00311934],\n",
       "        [-1.53631328,  3.01443916],\n",
       "        [-1.8146975 ,  3.29009724],\n",
       "        [-1.93731055,  3.91361274],\n",
       "        [-2.15968109,  3.41003096],\n",
       "        [-1.00552592,  3.0840054 ],\n",
       "        [-2.5457675 ,  3.15025055],\n",
       "        [-1.95866665,  2.43008647],\n",
       "        [-0.64695678,  3.42941343],\n",
       "        [-1.79145759,  2.74966896]]),\n",
       " array([[ 8.36856841e-01,  2.13635938e+00],\n",
       "        [ 1.15521298e+00,  5.09961887e+00],\n",
       "        [ 1.27135141e+00,  1.89254207e+00],\n",
       "        [ 3.43761754e+00,  2.61654166e-01],\n",
       "        [ 1.41372442e+00,  4.38117707e+00],\n",
       "        [ 1.24258802e+00,  4.50399192e+00],\n",
       "        [ 4.53791789e-01,  3.95647753e+00],\n",
       "        [ 1.06923853e+00,  4.53068484e+00],\n",
       "        [ 2.56936589e+00,  5.07048304e-01],\n",
       "        [ 2.71506328e+00,  1.29082190e+00],\n",
       "        [ 1.77710994e+00,  1.18655254e+00],\n",
       "        [ 7.34363910e-01,  5.03725437e+00],\n",
       "        [ 1.69747910e+00,  8.66123282e-01],\n",
       "        [ 5.94762432e-01,  4.70964730e+00],\n",
       "        [ 1.86725632e-01,  4.02683656e+00],\n",
       "        [ 1.87271752e+00,  4.18069237e+00],\n",
       "        [ 1.66382237e+00,  6.63091635e-01],\n",
       "        [ 6.69786996e-01,  3.59540802e+00],\n",
       "        [ 1.54462126e+00,  4.21078127e+00],\n",
       "        [ 1.98894313e+00,  1.50976729e+00],\n",
       "        [ 2.45509737e+00,  6.21231788e-01],\n",
       "        [ 1.69687788e+00,  7.54910622e-01],\n",
       "        [ 1.75644805e+00,  2.05538289e+00],\n",
       "        [ 1.39263752e+00,  9.28962707e-01],\n",
       "        [ 5.71670482e-01,  4.32288566e+00],\n",
       "        [ 2.36960214e+00,  9.50716912e-01],\n",
       "        [ 1.32222457e+00,  4.17880807e+00],\n",
       "        [ 1.19008992e+00,  4.72773123e+00],\n",
       "        [ 2.14043942e+00,  7.06066610e-01],\n",
       "        [ 5.95676822e-01,  4.08614263e+00],\n",
       "        [ 1.27955338e+00,  1.05789418e+00],\n",
       "        [ 1.72955064e+00,  1.14729369e+00],\n",
       "        [ 9.35325115e-01,  5.33179296e+00],\n",
       "        [ 2.36923352e+00,  7.94735861e-01],\n",
       "        [ 4.28576743e-01,  4.97399710e+00],\n",
       "        [ 5.29417185e-01,  3.80792420e+00],\n",
       "        [ 1.78194802e+00,  9.08151155e-01],\n",
       "        [ 1.16411070e+00,  3.79132988e+00],\n",
       "        [ 1.36155806e+00,  1.36638252e+00],\n",
       "        [ 2.60137487e+00,  1.08799459e+00],\n",
       "        [ 2.36790645e+00,  5.52190878e-01],\n",
       "        [ 1.05241733e+00,  4.54498095e+00],\n",
       "        [ 2.22707373e+00,  1.26296996e+00],\n",
       "        [ 2.43934644e+00, -7.25099666e-02],\n",
       "        [ 1.34471770e+00,  4.85711133e+00],\n",
       "        [ 9.82570091e-01,  5.37530962e+00],\n",
       "        [ 1.57322172e+00,  4.83933793e-01],\n",
       "        [ 1.83375842e+00,  7.54036153e-01],\n",
       "        [ 2.10616050e+00,  3.49513189e+00],\n",
       "        [ 1.10550448e+00,  1.26389129e+00],\n",
       "        [ 1.61152972e+00,  1.82347242e+00],\n",
       "        [ 1.67841499e+00,  6.09047389e-01],\n",
       "        [ 1.34195197e+00,  5.93573847e-01],\n",
       "        [ 1.42811550e+00,  1.62435083e+00],\n",
       "        [ 2.04505527e+00,  1.12515470e+00],\n",
       "        [ 1.67280531e+00,  6.59300571e-01],\n",
       "        [ 1.13078931e+00,  9.35620856e-01],\n",
       "        [ 2.43040639e+00, -6.35709334e-02],\n",
       "        [ 4.88382309e-01,  3.26801777e+00],\n",
       "        [ 1.25566754e+00,  3.38204112e+00],\n",
       "        [ 1.86922139e+00,  5.44132083e+00],\n",
       "        [ 7.93137001e-03,  4.17614316e+00],\n",
       "        [ 9.59360742e-01,  4.56078645e+00],\n",
       "        [ 2.24592863e-01,  4.77028154e+00],\n",
       "        [ 1.56724897e+00,  1.78090633e-02],\n",
       "        [ 1.86873582e+00,  9.56103760e-01],\n",
       "        [ 1.10123507e+00,  4.88977075e+00],\n",
       "        [ 6.70478769e-01,  4.04094275e+00],\n",
       "        [ 7.43873988e-01,  4.12240568e+00],\n",
       "        [ 1.64003761e+00,  1.81948989e+00],\n",
       "        [ 8.15468056e-01,  4.78526116e+00],\n",
       "        [ 1.43472182e+00,  1.30662037e+00],\n",
       "        [ 1.21387411e+00,  3.64795042e+00],\n",
       "        [ 1.08272576e+00,  4.06271877e+00],\n",
       "        [ 1.48170052e+00,  6.90074595e-01],\n",
       "        [ 1.89593761e+00,  5.18540259e+00],\n",
       "        [ 2.46915842e+00,  1.67877140e+00],\n",
       "        [ 2.31102276e+00,  1.30380848e+00],\n",
       "        [ 5.72793810e-01,  4.08805543e+00],\n",
       "        [ 2.62492001e+00,  9.50194405e-01],\n",
       "        [ 1.68353782e+00,  4.19583243e+00],\n",
       "        [ 8.15155229e-02,  4.56742235e+00],\n",
       "        [ 1.43289271e+00,  4.37679234e+00],\n",
       "        [ 1.06269622e+00,  5.17635143e+00],\n",
       "        [ 7.67522789e-01,  4.39759671e+00],\n",
       "        [ 2.47019077e+00,  1.31451315e+00],\n",
       "        [ 3.47138300e-01,  3.45177657e+00],\n",
       "        [ 1.01618041e+00,  4.48527047e+00],\n",
       "        [ 5.59529363e-01,  4.21400660e+00],\n",
       "        [ 1.65225163e+00,  3.65582842e+00],\n",
       "        [ 1.20212540e+00,  3.64414685e+00],\n",
       "        [ 1.86985974e+00, -1.07938624e-01],\n",
       "        [ 1.21767506e+00,  3.89290127e+00],\n",
       "        [ 1.07627418e+00,  4.68480619e+00],\n",
       "        [ 1.37964693e+00,  4.54826443e+00],\n",
       "        [-1.84892963e-03,  4.58145668e+00],\n",
       "        [ 1.71444449e+00,  5.02521524e+00],\n",
       "        [ 1.98436909e+00,  4.89556738e-01],\n",
       "        [ 2.95195825e+00, -3.44327355e-01],\n",
       "        [ 4.31891060e-01,  4.33495456e+00],\n",
       "        [ 2.52706430e+00,  6.17812202e-01],\n",
       "        [ 2.04067185e+00,  4.54845114e-01],\n",
       "        [ 1.61990909e+00,  6.76452867e-02],\n",
       "        [ 4.43598630e-01,  3.11530945e+00],\n",
       "        [ 2.13003529e+00,  5.19209620e+00],\n",
       "        [ 1.00372519e+00,  4.19147702e+00],\n",
       "        [ 7.28098690e-01,  3.85531444e+00],\n",
       "        [ 7.89338559e-01,  4.33748653e+00],\n",
       "        [ 1.97553917e+00,  7.18989132e-01],\n",
       "        [ 2.76808540e+00,  1.08782923e+00],\n",
       "        [ 2.77180174e-01,  4.84428322e+00],\n",
       "        [ 3.41085289e+00,  8.72309369e-01],\n",
       "        [ 2.40615694e+00,  4.87047502e+00],\n",
       "        [ 1.48859977e+00,  6.51633844e-01],\n",
       "        [ 5.14320434e-01,  4.62733684e+00],\n",
       "        [-6.14907097e-01,  3.94963585e+00],\n",
       "        [ 2.03169783e+00,  1.96807561e-01],\n",
       "        [ 2.14917144e+00,  1.03697228e+00],\n",
       "        [ 9.14338767e-01,  4.55014643e+00],\n",
       "        [ 3.33818506e-01,  4.93645836e+00],\n",
       "        [ 1.36678633e+00,  6.34971633e-01],\n",
       "        [ 1.49493180e+00,  3.85848832e+00],\n",
       "        [ 2.11390250e+00,  1.24743587e+00],\n",
       "        [ 1.20083098e+00,  6.01671730e-01],\n",
       "        [ 2.33812285e+00,  3.43116792e+00],\n",
       "        [ 3.35320909e+00,  1.69958043e+00],\n",
       "        [ 1.84287117e+00,  7.26928839e-02],\n",
       "        [ 1.32000621e+00,  1.40428145e+00],\n",
       "        [ 2.09680545e+00,  4.84741412e+00],\n",
       "        [ 2.74666646e+00,  1.54543482e+00],\n",
       "        [ 2.60778282e+00,  1.08890025e+00],\n",
       "        [ 1.65991049e+00,  3.56289184e+00],\n",
       "        [ 2.35151259e+00,  8.28001297e-01],\n",
       "        [ 2.22322228e+00,  8.38773426e-01],\n",
       "        [ 3.22881491e+00,  1.13171965e+00],\n",
       "        [ 9.17198564e-01,  3.90570036e+00],\n",
       "        [ 2.29469533e+00, -7.65891994e-01],\n",
       "        [ 1.81559810e+00,  1.11969719e+00],\n",
       "        [ 1.97369770e+00,  1.57979848e+00],\n",
       "        [ 2.51834185e+00,  1.39176615e+00],\n",
       "        [ 4.38990142e-01,  4.53592883e+00]]),\n",
       " array([[-1.4136581 ,  7.40962324],\n",
       "        [-2.22783649,  6.89479938],\n",
       "        [-0.55552381,  4.69595848],\n",
       "        [-2.05701103,  7.37851598],\n",
       "        [-1.13121396,  6.7665223 ],\n",
       "        [-0.04749204,  5.47425256],\n",
       "        [-2.2569867 ,  7.3020772 ],\n",
       "        [-2.04758277,  6.6542852 ],\n",
       "        [ 0.27239604,  5.46996004],\n",
       "        [-1.31454942,  6.83904013],\n",
       "        [ 0.45953467,  5.4498263 ],\n",
       "        [-1.37998039,  7.18503804],\n",
       "        [-0.53942861,  7.45631776],\n",
       "        [-1.38181918,  7.28761248],\n",
       "        [-1.102985  ,  7.30222786],\n",
       "        [-0.60133739,  6.29994922],\n",
       "        [ 0.21397908,  4.88542535],\n",
       "        [-1.73163168,  7.16447286],\n",
       "        [-1.48368917,  6.00777418],\n",
       "        [-0.97598663,  6.73761577],\n",
       "        [-0.45677365,  7.30600872],\n",
       "        [-1.8245584 ,  7.3595896 ],\n",
       "        [-0.73069817,  6.24208856],\n",
       "        [ 0.71517795,  5.41334556],\n",
       "        [-1.5587672 ,  7.2481621 ],\n",
       "        [-1.12016775,  7.11031582]]),\n",
       " array([[-1.01861632,  7.81491465],\n",
       "        [-0.20493217,  8.43209665],\n",
       "        [-0.71109961,  8.66043846],\n",
       "        [-2.67000792,  8.3538914 ],\n",
       "        [-0.51333344,  7.87437368],\n",
       "        [-1.64428957,  7.94095139],\n",
       "        [-2.41933824,  7.43952498],\n",
       "        [-2.01606928,  7.48420129],\n",
       "        [-2.6214278 ,  7.98635066],\n",
       "        [-1.37842552,  8.10269597],\n",
       "        [-1.47904303,  7.56915836],\n",
       "        [-0.89432788,  7.61714473],\n",
       "        [-0.04150177,  7.80870276],\n",
       "        [-1.80634968,  7.72830656],\n",
       "        [-1.5499458 ,  9.28293222],\n",
       "        [-2.45809975,  7.51178724],\n",
       "        [-2.66676007,  7.84766052],\n",
       "        [-1.03718771,  8.06300134],\n",
       "        [-0.78541221,  8.45312331],\n",
       "        [-1.03540116,  8.20559195],\n",
       "        [-0.94904161,  8.46424331],\n",
       "        [-1.45672617,  7.48669893],\n",
       "        [-1.95575053,  8.61631686],\n",
       "        [-0.58808517,  8.6142732 ],\n",
       "        [-0.6827749 ,  7.67490317],\n",
       "        [-2.17851338,  8.08585131],\n",
       "        [-1.64338755,  7.52691964],\n",
       "        [-0.34025893,  8.16733925],\n",
       "        [-2.09183352,  7.48142543],\n",
       "        [-2.59201821,  8.07635945],\n",
       "        [-1.79351372,  7.58086944],\n",
       "        [-1.51176949,  7.94426307],\n",
       "        [-0.92226864,  8.09888579],\n",
       "        [-1.93213725,  8.30643453],\n",
       "        [-1.22605234,  8.29620146],\n",
       "        [-1.14989863,  7.89325283],\n",
       "        [-1.81487687,  7.9783219 ],\n",
       "        [-0.6862103 ,  8.68285664],\n",
       "        [-1.40524304,  7.72611315],\n",
       "        [-1.86621694,  7.625494  ],\n",
       "        [-1.12867566,  7.80509789],\n",
       "        [-1.39346767,  8.74641672],\n",
       "        [-1.07768797,  8.88106128],\n",
       "        [-1.58084155,  7.55307742],\n",
       "        [-1.5302755 ,  7.70542113],\n",
       "        [-1.68568257,  7.95339446],\n",
       "        [-1.36999388,  7.76953035],\n",
       "        [-0.57109934,  8.13306058],\n",
       "        [-0.59044767,  7.69493053],\n",
       "        [-1.24307904,  8.15166254],\n",
       "        [-1.8590809 ,  7.78874716],\n",
       "        [-1.32688818,  8.51530794],\n",
       "        [-1.65507124,  8.61416749],\n",
       "        [-1.27567815,  7.96776461],\n",
       "        [ 0.36947866,  7.79110522]])]"
      ]
     },
     "execution_count": 18,
     "metadata": {},
     "output_type": "execute_result"
    }
   ],
   "source": [
    "clusters"
   ]
  },
  {
   "cell_type": "code",
   "execution_count": 19,
   "metadata": {},
   "outputs": [
    {
     "data": {
      "text/plain": [
       "array([0.61573591, 2.06174816, 2.78965798, 3.32652709])"
      ]
     },
     "execution_count": 19,
     "metadata": {},
     "output_type": "execute_result"
    }
   ],
   "source": [
    "new_centroids=np.array([X[cluster_memberships==i].mean() for i in range(0,num_clusters)])\n",
    "new_centroids"
   ]
  },
  {
   "cell_type": "code",
   "execution_count": 20,
   "metadata": {},
   "outputs": [],
   "source": [
    "centroids=new_centroids"
   ]
  },
  {
   "cell_type": "code",
   "execution_count": 21,
   "metadata": {},
   "outputs": [
    {
     "data": {
      "text/plain": [
       "array([ True,  True,  True,  True])"
      ]
     },
     "execution_count": 21,
     "metadata": {},
     "output_type": "execute_result"
    }
   ],
   "source": [
    "(centroids-new_centroids)<1e-8"
   ]
  },
  {
   "cell_type": "code",
   "execution_count": null,
   "metadata": {},
   "outputs": [],
   "source": [
    "def Kmeans(X,num_clusters):\n",
    "    centroids=get_random_centroids(X,cluster_count=num_clusters)\n",
    "    iter_idx=1\n",
    "    while True:\n",
    "        print(f\"Iter idx= {iter_idx}\")\n",
    "        cluster_memberships=pairwise_distances_argmin(X,centroids)\n",
    "        new_centroids=np.array([X[cluster_memberships==i].mean(axis=0) for i in range(0,num_clusters)])\n",
    "\n",
    "        if np.all(centroids==new_centroids):\n",
    "            break\n",
    "\n",
    "        centroids=new_centroids\n",
    "        iter_idx+=1\n",
    "    return centroids,labels"
   ]
  }
 ],
 "metadata": {
  "kernelspec": {
   "display_name": "base",
   "language": "python",
   "name": "python3"
  },
  "language_info": {
   "codemirror_mode": {
    "name": "ipython",
    "version": 3
   },
   "file_extension": ".py",
   "mimetype": "text/x-python",
   "name": "python",
   "nbconvert_exporter": "python",
   "pygments_lexer": "ipython3",
   "version": "3.8.8"
  },
  "orig_nbformat": 4
 },
 "nbformat": 4,
 "nbformat_minor": 2
}
