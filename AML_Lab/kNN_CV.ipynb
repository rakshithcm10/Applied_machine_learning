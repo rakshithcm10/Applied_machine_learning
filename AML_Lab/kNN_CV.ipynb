{
 "cells": [
  {
   "cell_type": "markdown",
   "metadata": {},
   "source": [
    "# kNN\n",
    "\n",
    "\n",
    "## Table of Contents\n",
    "\n",
    "**kNN with scikit-learn**\n",
    "1. [kNN based plain vanilla ML steps](#knn-vanilla)\n",
    "2. [Cross validation for k using scikit learn API](#cv)\n",
    "3. [GridSearch & RandomSearch for multiple hyperparameter tuning](#gridsearch)\n",
    "4. [Beyond GridSearch - Lack of stability even after GridSearchCV (Optional)](#beyond-gridsearch)\n",
    "5. [Cross validation from scratch](cv-from-scratch)\n",
    "\n",
    "**Assignments**\n",
    "1. [train test split from scratch](#train-test-scratch)\n",
    "2. [kNN from scratch](#knn-scratch)\n",
    "3. [GridSearch from scratch](#gridsearch-scratch)\n",
    "4. [Integrate your custom code](#integrate)"
   ]
  },
  {
   "cell_type": "code",
   "execution_count": 2,
   "metadata": {},
   "outputs": [],
   "source": [
    "import numpy as np\n",
    "import pandas as pd\n",
    "\n",
    "import sklearn as sk"
   ]
  },
  {
   "cell_type": "code",
   "execution_count": 3,
   "metadata": {},
   "outputs": [
    {
     "name": "stdout",
     "output_type": "stream",
     "text": [
      "numpy version = 1.24.3\n",
      "sklearn version = 1.3.0\n"
     ]
    }
   ],
   "source": [
    "print(f\"numpy version = {np.__version__}\")  #Check the numpy version for sanity check\n",
    "print(f\"sklearn version = {sk.__version__}\")"
   ]
  },
  {
   "cell_type": "markdown",
   "metadata": {},
   "source": [
    "<a id='knn-vanilla'></a>\n",
    "<hr/>"
   ]
  },
  {
   "cell_type": "markdown",
   "metadata": {},
   "source": [
    "## kNN with scikit-learn\n",
    "\n",
    "### 1. kNN based plain vanilla ML steps\n",
    "\n",
    "##### 1.1 Acquire and load data"
   ]
  },
  {
   "cell_type": "code",
   "execution_count": 4,
   "metadata": {},
   "outputs": [],
   "source": [
    "# import load_iris function from datasets module\n",
    "from sklearn.datasets import load_iris\n",
    "\n",
    "# save \"bunch\" object containing iris dataset and its attributes\n",
    "iris = load_iris()\n",
    "\n",
    "#store feature matrix in dataframe\n",
    "df = pd.DataFrame(iris.data, columns=iris.feature_names)\n",
    "\n",
    "# store response vector in \"y\"\n",
    "y = iris.target"
   ]
  },
  {
   "cell_type": "code",
   "execution_count": 5,
   "metadata": {},
   "outputs": [
    {
     "name": "stdout",
     "output_type": "stream",
     "text": [
      "(150, 4)\n",
      "(150,)\n"
     ]
    }
   ],
   "source": [
    "# print the shapes of X and y\n",
    "print(df.shape)\n",
    "print(y.shape)"
   ]
  },
  {
   "cell_type": "markdown",
   "metadata": {},
   "source": [
    "##### 1.2 3 step ML process\n",
    "\n",
    "1. Model Selection\n",
    "2. Model Training (plus Tuning)\n",
    "3. Model Evaluation"
   ]
  },
  {
   "cell_type": "code",
   "execution_count": 6,
   "metadata": {},
   "outputs": [],
   "source": [
    "# Start by train/test split data with random_state \n",
    "\n",
    "from sklearn.model_selection import train_test_split\n",
    "\n",
    "X_train, X_test, y_train, y_test = train_test_split(df, y, random_state=4)"
   ]
  },
  {
   "cell_type": "code",
   "execution_count": 7,
   "metadata": {},
   "outputs": [
    {
     "name": "stdout",
     "output_type": "stream",
     "text": [
      "type(X_train)=<class 'pandas.core.frame.DataFrame'>\n",
      "type(y_train)=<class 'numpy.ndarray'>\n"
     ]
    }
   ],
   "source": [
    "print(f\"type(X_train)={type(X_train)}\") # when dataframe is passed, the split is also dataframe\n",
    "print(f\"type(y_train)={type(y_train)}\")"
   ]
  },
  {
   "cell_type": "code",
   "execution_count": 8,
   "metadata": {},
   "outputs": [],
   "source": [
    "# 1. Model Selection\n",
    "# import the algorithm instantiate the algorithm class\n",
    "from sklearn.neighbors import KNeighborsClassifier \n",
    "\n",
    "knn = KNeighborsClassifier(n_neighbors=1)"
   ]
  },
  {
   "cell_type": "code",
   "execution_count": 9,
   "metadata": {},
   "outputs": [
    {
     "data": {
      "text/html": [
       "<style>#sk-container-id-1 {color: black;}#sk-container-id-1 pre{padding: 0;}#sk-container-id-1 div.sk-toggleable {background-color: white;}#sk-container-id-1 label.sk-toggleable__label {cursor: pointer;display: block;width: 100%;margin-bottom: 0;padding: 0.3em;box-sizing: border-box;text-align: center;}#sk-container-id-1 label.sk-toggleable__label-arrow:before {content: \"▸\";float: left;margin-right: 0.25em;color: #696969;}#sk-container-id-1 label.sk-toggleable__label-arrow:hover:before {color: black;}#sk-container-id-1 div.sk-estimator:hover label.sk-toggleable__label-arrow:before {color: black;}#sk-container-id-1 div.sk-toggleable__content {max-height: 0;max-width: 0;overflow: hidden;text-align: left;background-color: #f0f8ff;}#sk-container-id-1 div.sk-toggleable__content pre {margin: 0.2em;color: black;border-radius: 0.25em;background-color: #f0f8ff;}#sk-container-id-1 input.sk-toggleable__control:checked~div.sk-toggleable__content {max-height: 200px;max-width: 100%;overflow: auto;}#sk-container-id-1 input.sk-toggleable__control:checked~label.sk-toggleable__label-arrow:before {content: \"▾\";}#sk-container-id-1 div.sk-estimator input.sk-toggleable__control:checked~label.sk-toggleable__label {background-color: #d4ebff;}#sk-container-id-1 div.sk-label input.sk-toggleable__control:checked~label.sk-toggleable__label {background-color: #d4ebff;}#sk-container-id-1 input.sk-hidden--visually {border: 0;clip: rect(1px 1px 1px 1px);clip: rect(1px, 1px, 1px, 1px);height: 1px;margin: -1px;overflow: hidden;padding: 0;position: absolute;width: 1px;}#sk-container-id-1 div.sk-estimator {font-family: monospace;background-color: #f0f8ff;border: 1px dotted black;border-radius: 0.25em;box-sizing: border-box;margin-bottom: 0.5em;}#sk-container-id-1 div.sk-estimator:hover {background-color: #d4ebff;}#sk-container-id-1 div.sk-parallel-item::after {content: \"\";width: 100%;border-bottom: 1px solid gray;flex-grow: 1;}#sk-container-id-1 div.sk-label:hover label.sk-toggleable__label {background-color: #d4ebff;}#sk-container-id-1 div.sk-serial::before {content: \"\";position: absolute;border-left: 1px solid gray;box-sizing: border-box;top: 0;bottom: 0;left: 50%;z-index: 0;}#sk-container-id-1 div.sk-serial {display: flex;flex-direction: column;align-items: center;background-color: white;padding-right: 0.2em;padding-left: 0.2em;position: relative;}#sk-container-id-1 div.sk-item {position: relative;z-index: 1;}#sk-container-id-1 div.sk-parallel {display: flex;align-items: stretch;justify-content: center;background-color: white;position: relative;}#sk-container-id-1 div.sk-item::before, #sk-container-id-1 div.sk-parallel-item::before {content: \"\";position: absolute;border-left: 1px solid gray;box-sizing: border-box;top: 0;bottom: 0;left: 50%;z-index: -1;}#sk-container-id-1 div.sk-parallel-item {display: flex;flex-direction: column;z-index: 1;position: relative;background-color: white;}#sk-container-id-1 div.sk-parallel-item:first-child::after {align-self: flex-end;width: 50%;}#sk-container-id-1 div.sk-parallel-item:last-child::after {align-self: flex-start;width: 50%;}#sk-container-id-1 div.sk-parallel-item:only-child::after {width: 0;}#sk-container-id-1 div.sk-dashed-wrapped {border: 1px dashed gray;margin: 0 0.4em 0.5em 0.4em;box-sizing: border-box;padding-bottom: 0.4em;background-color: white;}#sk-container-id-1 div.sk-label label {font-family: monospace;font-weight: bold;display: inline-block;line-height: 1.2em;}#sk-container-id-1 div.sk-label-container {text-align: center;}#sk-container-id-1 div.sk-container {/* jupyter's `normalize.less` sets `[hidden] { display: none; }` but bootstrap.min.css set `[hidden] { display: none !important; }` so we also need the `!important` here to be able to override the default hidden behavior on the sphinx rendered scikit-learn.org. See: https://github.com/scikit-learn/scikit-learn/issues/21755 */display: inline-block !important;position: relative;}#sk-container-id-1 div.sk-text-repr-fallback {display: none;}</style><div id=\"sk-container-id-1\" class=\"sk-top-container\"><div class=\"sk-text-repr-fallback\"><pre>KNeighborsClassifier(n_neighbors=1)</pre><b>In a Jupyter environment, please rerun this cell to show the HTML representation or trust the notebook. <br />On GitHub, the HTML representation is unable to render, please try loading this page with nbviewer.org.</b></div><div class=\"sk-container\" hidden><div class=\"sk-item\"><div class=\"sk-estimator sk-toggleable\"><input class=\"sk-toggleable__control sk-hidden--visually\" id=\"sk-estimator-id-1\" type=\"checkbox\" checked><label for=\"sk-estimator-id-1\" class=\"sk-toggleable__label sk-toggleable__label-arrow\">KNeighborsClassifier</label><div class=\"sk-toggleable__content\"><pre>KNeighborsClassifier(n_neighbors=1)</pre></div></div></div></div></div>"
      ],
      "text/plain": [
       "KNeighborsClassifier(n_neighbors=1)"
      ]
     },
     "execution_count": 9,
     "metadata": {},
     "output_type": "execute_result"
    }
   ],
   "source": [
    "# 2. Model Training (& Tuning)\n",
    "knn.fit(X_train, y_train)"
   ]
  },
  {
   "cell_type": "code",
   "execution_count": 10,
   "metadata": {},
   "outputs": [
    {
     "name": "stdout",
     "output_type": "stream",
     "text": [
      "Accuracy with k = 1 0.9473684210526315\n"
     ]
    }
   ],
   "source": [
    "# 3. Model Evaluation (Prediction)\n",
    "\n",
    "from sklearn import metrics\n",
    "y_pred = knn.predict(X_test)\n",
    "\n",
    "accuracy = metrics.accuracy_score(y_test, y_pred)\n",
    "print(f\"Accuracy with k = 1 {accuracy}\")"
   ]
  },
  {
   "cell_type": "markdown",
   "metadata": {},
   "source": [
    "<a id='cv'></a>\n",
    "<hr/>"
   ]
  },
  {
   "cell_type": "markdown",
   "metadata": {},
   "source": [
    "### 2. Cross validation for k using scikit learn API\n",
    "\n",
    "K-Fold CV diagram \n",
    "\n",
    "![CV](https://onedrive.live.com/embed?resid=A5A4158EF1352FCB%211929&authkey=%21AOCi-KlSCxdsSqo&width=631&height=279)\n",
    "\n",
    "\n",
    "**Different types of Validation**\n",
    "\n",
    "1. Holdout: In some sense, Train-Test Split is also one extreme of K-Fold Cross validation. Here we can assume the entire X is split into 2 parts (k=2). The train split is used for model training; test part is used for model testing. Test split is called Holdout. And this validation method is also referred to as Hold-out Cross Validation\n",
    "\n",
    "2. K-Fold CV: The K-Fold Cross Validation we have adopted is a practical combination of holdout and the pure form of K-Fold Cross validation. We first do the split for hold out and then execute K-Fold CV as if it is complete dataset. If data is scarce, then we could first choose 90:10 train-test split instead of 80:20, followed a higher K for K-Fold CV.\n",
    "\n",
    "3. Stratified CV: When there is some class imbalance in the dataset, we would like to get each class a representative share in model training and validation, which otherwise may not be possible with random shuffle and sampling. Rest of this is same as K-Fold CV\n",
    "\n",
    "4. Leave-One-Out CV (LOOCV): is another extreme from holdout, where the total number of folds = number of observations (in X_train as applied to our case). If X_train split contained n rows, the model is trained on n-1 and validated on 1. This is computationally very expensive. But this should be used if the dataset is quite small.\n",
    "\n",
    "5. Repeated K-Fold CV: K-Fold CV repeated and/or stratified\n",
    "6. Nested CV: This is nothing but GridSearchCV and RandomSearch CV\n",
    "\n",
    "Question: What is the computational cost of each type of CV? \n",
    "\n",
    "\n",
    "##### 2.1 K-Fold CV\n",
    "\n",
    "1. K-Fold CV divides dataset into k non-overlapping folds. \n",
    "2. Each of the k folds gets an opportunity to be used as hold-out test set, when all other folds collectively are used as training dataset. \n",
    "3. A total of k models are fit and evaluated on the k hold-out test sets and the mean performance is reported"
   ]
  },
  {
   "cell_type": "code",
   "execution_count": 11,
   "metadata": {},
   "outputs": [
    {
     "name": "stdout",
     "output_type": "stream",
     "text": [
      "Cross Validation scores = [0.95652174 0.91304348 0.95454545 1.         1.        ]\n",
      "type=<class 'numpy.ndarray'>\n",
      "Average CV accuracy for k=2 is 0.9648221343873518\n"
     ]
    }
   ],
   "source": [
    "from sklearn.model_selection import cross_val_score\n",
    "\n",
    "knn = KNeighborsClassifier(n_neighbors=2)\n",
    "scores = cross_val_score(knn, X_train, y_train, cv=5, scoring='accuracy')\n",
    "\n",
    "print(f\"Cross Validation scores = {scores}\")\n",
    "print(f\"type={type(scores)}\")\n",
    "print(f\"Average CV accuracy for k=2 is {np.mean(scores)}\")"
   ]
  },
  {
   "cell_type": "code",
   "execution_count": 12,
   "metadata": {},
   "outputs": [
    {
     "name": "stdout",
     "output_type": "stream",
     "text": [
      "[0.965 0.965 0.974 0.965 0.974 0.983 0.982 0.973 0.982 0.982 0.991 0.982\n",
      " 0.974 0.964 0.974 0.964 0.964 0.964 0.964]\n"
     ]
    }
   ],
   "source": [
    "# search for an optimal value of K for KNN\n",
    "k_range = list(range(1, 20))\n",
    "k_avg_scores = []\n",
    "for k in k_range:\n",
    "    knn = KNeighborsClassifier(n_neighbors=k)\n",
    "    scores = cross_val_score(knn, X_train, y_train, cv=5, scoring='accuracy')\n",
    "    k_avg_scores.append(scores.mean())\n",
    "print(np.round(np.array(k_avg_scores), decimals=3))"
   ]
  },
  {
   "cell_type": "code",
   "execution_count": 13,
   "metadata": {},
   "outputs": [
    {
     "data": {
      "text/plain": [
       "Text(0, 0.5, 'CV Accuracy')"
      ]
     },
     "execution_count": 13,
     "metadata": {},
     "output_type": "execute_result"
    },
    {
     "data": {
      "image/png": "[encoded data removed]",
      "text/plain": [
       "<Figure size 640x480 with 1 Axes>"
      ]
     },
     "metadata": {},
     "output_type": "display_data"
    }
   ],
   "source": [
    "import matplotlib.pyplot as plt\n",
    "%matplotlib inline\n",
    "\n",
    "# plot the value of K for KNN (x-axis) versus the cross-validated accuracy (y-axis)\n",
    "plt.plot(k_range, k_avg_scores)\n",
    "plt.xlabel('k for KNN')\n",
    "plt.ylabel('CV Accuracy')"
   ]
  },
  {
   "cell_type": "code",
   "execution_count": 14,
   "metadata": {},
   "outputs": [
    {
     "data": {
      "text/plain": [
       "11"
      ]
     },
     "execution_count": 14,
     "metadata": {},
     "output_type": "execute_result"
    }
   ],
   "source": [
    "# choose best k\n",
    "np.argmax(np.array(k_avg_scores))+1 #why the +1?"
   ]
  },
  {
   "cell_type": "code",
   "execution_count": 15,
   "metadata": {},
   "outputs": [
    {
     "name": "stdout",
     "output_type": "stream",
     "text": [
      "[0.974 0.974 0.974 0.973 0.964 0.974 0.974 0.955 0.955 0.947 0.956]\n"
     ]
    }
   ],
   "source": [
    "# Whats different from previous code cell? \n",
    "# KFold object is explicitly provided for cv instead of mere number.\n",
    "# This allows fine grained control over the KFold\n",
    "\n",
    "from sklearn.model_selection import KFold\n",
    "\n",
    "X_train, X_test, y_train, y_test = train_test_split(df, y, random_state=4)\n",
    "\n",
    "k_range = list(range(3,25,2))\n",
    "k_avg_scores = []\n",
    "\n",
    "for k in k_range:\n",
    "    knn = KNeighborsClassifier(n_neighbors=k)\n",
    "    kfold = KFold(n_splits=5, shuffle=False) #this is new in this code cell\n",
    "    scores = cross_val_score(knn, X_train, y_train, cv=kfold, scoring='accuracy') \n",
    "    k_avg_scores.append(scores.mean())\n",
    "print(np.round(np.array(k_avg_scores), decimals=3))"
   ]
  },
  {
   "cell_type": "code",
   "execution_count": 16,
   "metadata": {},
   "outputs": [
    {
     "data": {
      "text/plain": [
       "3"
      ]
     },
     "execution_count": 16,
     "metadata": {},
     "output_type": "execute_result"
    }
   ],
   "source": [
    "2*np.argmax(np.array(k_avg_scores))+3"
   ]
  },
  {
   "cell_type": "markdown",
   "metadata": {},
   "source": [
    "##### 2.2 Leave One Out Cross Validation (LOOCV)\n",
    "\n",
    "1. This is equivalent to saying n-fold CV. where n is the number of records. Each record is a fold\n",
    "2. n-1 folds are combined to form the training portion. 1 record is used for validation\n",
    "3. Very effective for checking hyperparameters, especially when data is very less, but computationally very expensive "
   ]
  },
  {
   "cell_type": "code",
   "execution_count": 17,
   "metadata": {},
   "outputs": [
    {
     "name": "stdout",
     "output_type": "stream",
     "text": [
      "[0.964 0.955 0.973 0.964 0.973 0.973 0.982 0.973 0.973 0.964 0.973 0.973\n",
      " 0.982 0.982 0.964 0.955 0.955 0.955 0.964 0.938 0.946 0.938 0.946 0.946]\n"
     ]
    }
   ],
   "source": [
    "from sklearn.model_selection import LeaveOneOut\n",
    "\n",
    "X_train, X_test, y_train, y_test = train_test_split(df, y, random_state=4)\n",
    "\n",
    "k_range = list(range(1, 25))\n",
    "k_avg_scores = []\n",
    "for k in k_range:\n",
    "    knn = KNeighborsClassifier(n_neighbors=k)\n",
    "    loocv = LeaveOneOut()\n",
    "    scores = cross_val_score(knn, X_train, y_train, cv=loocv, scoring='accuracy') #Leave One out CV object provided for cv\n",
    "    k_avg_scores.append(scores.mean())\n",
    "\n",
    "print(np.round(np.array(k_avg_scores), decimals=3))"
   ]
  },
  {
   "cell_type": "code",
   "execution_count": 18,
   "metadata": {},
   "outputs": [
    {
     "name": "stdout",
     "output_type": "stream",
     "text": [
      "Best value for k is 7\n"
     ]
    }
   ],
   "source": [
    "best_k = np.argmax(np.array(k_avg_scores))+1\n",
    "print(f\"Best value for k is {best_k}\")"
   ]
  },
  {
   "cell_type": "code",
   "execution_count": 19,
   "metadata": {},
   "outputs": [
    {
     "data": {
      "text/plain": [
       "Text(0, 0.5, 'CV Accuracy')"
      ]
     },
     "execution_count": 19,
     "metadata": {},
     "output_type": "execute_result"
    },
    {
     "data": {
      "image/png": "[encoded data removed]",
      "text/plain": [
       "<Figure size 640x480 with 1 Axes>"
      ]
     },
     "metadata": {},
     "output_type": "display_data"
    }
   ],
   "source": [
    "# plot the value of K for KNN (x-axis) versus the cross-validated accuracy (y-axis)\n",
    "plt.plot(k_range, k_avg_scores)\n",
    "plt.xlabel('k for KNN')\n",
    "plt.ylabel('CV Accuracy')"
   ]
  },
  {
   "cell_type": "markdown",
   "metadata": {},
   "source": [
    "##### 2.3 Stratified K-Fold CV\n",
    "\n",
    "1. Best option for CV on imbalanced dataset\n",
    "2. For a generic parametric model like Logistic Regression etc., the impact of higher class imbalance on hyperparameter tuning with Stratified K-Fold is that it will get a representative train and test dataset and discover higher & better L2 Regularization lambda\n",
    "3. For kNN, however, the model reacts by finding a lower k to increase its accuracy. This is undesirable side effect of kNN on imbalanced dataset. We attempt to fix this by setting the lower k range to be at least 5\n",
    "4. kNN is a very bad choice for imbalanced dataset\n",
    "5. Also accuracy is not the best measure for model performance in imbalanced dataset\n",
    "6. In general the model trained with stratified split and stratified kfold is robust"
   ]
  },
  {
   "cell_type": "code",
   "execution_count": 20,
   "metadata": {},
   "outputs": [
    {
     "data": {
      "text/plain": [
       "(array([[ 0.56177533, -1.77472878],\n",
       "        [ 0.39969041,  0.41708222],\n",
       "        [ 0.51992732, -0.53357566],\n",
       "        [ 0.63123936, -1.12899169],\n",
       "        [ 2.22382082, -1.335088  ]]),\n",
       " array([0, 0, 0, 0, 0]))"
      ]
     },
     "execution_count": 20,
     "metadata": {},
     "output_type": "execute_result"
    }
   ],
   "source": [
    "# Stratified CV example with a synthetic dataset\n",
    "\n",
    "from sklearn.datasets import make_classification\n",
    "from sklearn.model_selection import StratifiedKFold\n",
    "\n",
    "# generate data\n",
    "X_imb, y_imb = make_classification(n_samples=1000, n_classes=2, weights=[0.95, 0.05], flip_y=0, random_state=1)\n",
    "\n",
    "X_imb_train, X_imb_test, y_imb_train, y_imb_test = \\\n",
    "    train_test_split(X_imb, y_imb, test_size = 0.2, stratify=y_imb, shuffle = True, random_state = 0)\n",
    "\n",
    "X_imb_train[0:5,0:2], y_imb_train[0:5]"
   ]
  },
  {
   "cell_type": "code",
   "execution_count": 21,
   "metadata": {},
   "outputs": [
    {
     "name": "stdout",
     "output_type": "stream",
     "text": [
      "> Class=0 : 950/1000 (95.0%)\n",
      "> Class=1 : 50/1000 (5.0%)\n"
     ]
    }
   ],
   "source": [
    "# summarize dataset\n",
    "classes = np.unique(y_imb)\n",
    "total = len(y_imb)\n",
    "for c in classes:\n",
    " n_examples = len(y_imb[y_imb==c])\n",
    " percent = n_examples / total * 100\n",
    " print('> Class=%d : %d/%d (%.1f%%)' % (c, n_examples, total, percent))"
   ]
  },
  {
   "cell_type": "code",
   "execution_count": 22,
   "metadata": {},
   "outputs": [
    {
     "name": "stdout",
     "output_type": "stream",
     "text": [
      "[0.948 0.951 0.95  0.95  0.949 0.95  0.95  0.95  0.95  0.95  0.95  0.95\n",
      " 0.95  0.95  0.95  0.95  0.95  0.95  0.95  0.95  0.95  0.95 ]\n",
      "Best value for k is 4\n",
      "Test accuracy with K-Fold and best k = 4 is 0.95\n"
     ]
    }
   ],
   "source": [
    "k_lower_limit = 3\n",
    "k_range = list(range(k_lower_limit, 25))\n",
    "k_avg_scores = []\n",
    "for k in k_range:\n",
    "    knn = KNeighborsClassifier(n_neighbors=k)\n",
    "    kfold = KFold(n_splits=5, shuffle=True, random_state=1)\n",
    "    scores = cross_val_score(knn, X_imb_train, y_imb_train, cv=kfold, scoring='accuracy')\n",
    "    k_avg_scores.append(scores.mean())\n",
    "\n",
    "print(np.round(np.array(k_avg_scores), decimals=3))\n",
    "\n",
    "best_k = np.argmax(np.array(k_avg_scores)) + k_lower_limit\n",
    "print(f\"Best value for k is {best_k}\")\n",
    "\n",
    "# Fit the model again with best k obtained in cross validation\n",
    "knn1 = KNeighborsClassifier(n_neighbors=best_k) \n",
    "knn1.fit(X_imb_train, y_imb_train)\n",
    "y_imb_pred = knn1.predict(X_imb_test)\n",
    "accuracy = metrics.accuracy_score(y_imb_test, y_imb_pred)\n",
    "print(f\"Test accuracy with K-Fold and best k = {best_k} is {accuracy}\")"
   ]
  },
  {
   "cell_type": "code",
   "execution_count": 23,
   "metadata": {},
   "outputs": [
    {
     "name": "stdout",
     "output_type": "stream",
     "text": [
      "[0.956 0.952 0.955 0.95  0.952 0.95  0.95  0.95  0.95  0.95  0.95  0.95\n",
      " 0.95  0.95  0.95  0.95  0.95  0.95  0.95  0.95  0.95  0.95 ]\n",
      "Best value for k is 3\n",
      "Accuracy with Stratified K-Fold and best k = 3 is 0.95\n"
     ]
    }
   ],
   "source": [
    "k_lower_limit = 3\n",
    "k_range = list(range(k_lower_limit, 25))\n",
    "k_avg_scores = []\n",
    "for k in k_range:\n",
    "    knn = KNeighborsClassifier(n_neighbors=k)\n",
    "    skfold = StratifiedKFold(n_splits=5, shuffle=True, random_state=1)\n",
    "    scores = cross_val_score(knn, X_imb_train, y_imb_train, cv=skfold, scoring='accuracy')\n",
    "    k_avg_scores.append(scores.mean())\n",
    "\n",
    "print(np.round(np.array(k_avg_scores), decimals=3))\n",
    "\n",
    "best_k = np.argmax(np.array(k_avg_scores)) + k_lower_limit\n",
    "print(f\"Best value for k is {best_k}\")\n",
    "\n",
    "# Fit the model again with best k obtained in cross validation\n",
    "knn2 = KNeighborsClassifier(n_neighbors=best_k) \n",
    "knn2.fit(X_imb_train, y_imb_train)\n",
    "y_imb_pred = knn2.predict(X_imb_test)\n",
    "accuracy = metrics.accuracy_score(y_imb_test, y_imb_pred)\n",
    "print(f\"Accuracy with Stratified K-Fold and best k = {best_k} is {accuracy}\")"
   ]
  },
  {
   "cell_type": "markdown",
   "metadata": {},
   "source": [
    "##### 2.4 Repeated K-Fold CV\n",
    "\n",
    "1. K-Fold runs on different train and val folds in each iteration. This provides a noisy estimate (by design)\n",
    "2. One way to reduce the noise is increase k in K-Fold. This reduces the bias in estimated model performance, but increases variance\n",
    "3. One solution is to repeat each fold of the K-Fold a certain number of times and report the mean metrics of the repeats for that given KFold. This fixes the variance issue  "
   ]
  },
  {
   "cell_type": "code",
   "execution_count": 24,
   "metadata": {},
   "outputs": [],
   "source": [
    "from sklearn.model_selection import KFold\n",
    "\n",
    "X_train, X_test, y_train, y_test = train_test_split(df, y, random_state=4)"
   ]
  },
  {
   "cell_type": "code",
   "execution_count": 25,
   "metadata": {},
   "outputs": [
    {
     "name": "stdout",
     "output_type": "stream",
     "text": [
      "Variance of scores in 5-Fold = 0.0012242028464747152\n",
      "Variance of scores in 10-Fold = 0.0015518824609733713\n"
     ]
    },
    {
     "data": {
      "text/plain": [
       "array([0.91304348, 1.        , 1.        , 1.        , 0.95454545])"
      ]
     },
     "execution_count": 25,
     "metadata": {},
     "output_type": "execute_result"
    }
   ],
   "source": [
    "knn1 = KNeighborsClassifier(n_neighbors=3)\n",
    "kfold1 = KFold(n_splits=5, shuffle=True, random_state=42)\n",
    "scores1 = cross_val_score(knn1, X_train, y_train, cv=kfold1, scoring='accuracy')\n",
    "\n",
    "knn2 = KNeighborsClassifier(n_neighbors=3)\n",
    "kfold2 = KFold(n_splits=10, shuffle=True, random_state=42)\n",
    "scores2 = cross_val_score(knn2, X_train, y_train, cv=kfold2, scoring='accuracy')\n",
    "\n",
    "print(f\"Variance of scores in 5-Fold = {np.var(scores1)}\")\n",
    "print(f\"Variance of scores in 10-Fold = {np.var(scores2)}\")\n",
    "scores1"
   ]
  },
  {
   "cell_type": "code",
   "execution_count": 26,
   "metadata": {},
   "outputs": [
    {
     "name": "stdout",
     "output_type": "stream",
     "text": [
      "Variance of scores in Repeated 5-Fold = 0.0012098298676748588\n"
     ]
    },
    {
     "data": {
      "text/plain": [
       "array([0.91304348, 1.        , 1.        , 1.        , 0.95454545,\n",
       "       0.95652174, 1.        , 0.90909091, 1.        , 0.95454545])"
      ]
     },
     "execution_count": 26,
     "metadata": {},
     "output_type": "execute_result"
    }
   ],
   "source": [
    "from sklearn.model_selection import RepeatedKFold\n",
    "\n",
    "knn = KNeighborsClassifier(n_neighbors=3)\n",
    "rkfold = RepeatedKFold(n_splits=5, n_repeats=2, random_state=42)\n",
    "scores3 = cross_val_score(knn, X_train, y_train, cv=rkfold, scoring='accuracy')\n",
    "\n",
    "print(f\"Variance of scores in Repeated 5-Fold = {np.var(scores3)}\")\n",
    "scores3"
   ]
  },
  {
   "cell_type": "code",
   "execution_count": 27,
   "metadata": {},
   "outputs": [
    {
     "data": {
      "image/png": "[encoded data removed]",
      "text/plain": [
       "<Figure size 640x480 with 3 Axes>"
      ]
     },
     "metadata": {},
     "output_type": "display_data"
    }
   ],
   "source": [
    "plt.subplot(1,3,1)\n",
    "plt.boxplot(scores1)\n",
    "plt.subplot(1,3,2)\n",
    "plt.boxplot(scores2)\n",
    "plt.subplot(1,3,3)\n",
    "plt.boxplot(scores3)\n",
    "plt.show()"
   ]
  },
  {
   "cell_type": "markdown",
   "metadata": {},
   "source": [
    "<a id='gridsearch'></a>\n",
    "<hr/>"
   ]
  },
  {
   "cell_type": "markdown",
   "metadata": {},
   "source": [
    "### 3 GridSearch & RandomSearch for multiple hyperparameter tuning\n",
    "\n",
    "##### 3.1 Grid Search\n",
    "1. The code below uses LOOCV for CV. We could even use K-Fold CV instead"
   ]
  },
  {
   "cell_type": "code",
   "execution_count": 28,
   "metadata": {},
   "outputs": [
    {
     "data": {
      "text/html": [
       "<style>#sk-container-id-2 {color: black;}#sk-container-id-2 pre{padding: 0;}#sk-container-id-2 div.sk-toggleable {background-color: white;}#sk-container-id-2 label.sk-toggleable__label {cursor: pointer;display: block;width: 100%;margin-bottom: 0;padding: 0.3em;box-sizing: border-box;text-align: center;}#sk-container-id-2 label.sk-toggleable__label-arrow:before {content: \"▸\";float: left;margin-right: 0.25em;color: #696969;}#sk-container-id-2 label.sk-toggleable__label-arrow:hover:before {color: black;}#sk-container-id-2 div.sk-estimator:hover label.sk-toggleable__label-arrow:before {color: black;}#sk-container-id-2 div.sk-toggleable__content {max-height: 0;max-width: 0;overflow: hidden;text-align: left;background-color: #f0f8ff;}#sk-container-id-2 div.sk-toggleable__content pre {margin: 0.2em;color: black;border-radius: 0.25em;background-color: #f0f8ff;}#sk-container-id-2 input.sk-toggleable__control:checked~div.sk-toggleable__content {max-height: 200px;max-width: 100%;overflow: auto;}#sk-container-id-2 input.sk-toggleable__control:checked~label.sk-toggleable__label-arrow:before {content: \"▾\";}#sk-container-id-2 div.sk-estimator input.sk-toggleable__control:checked~label.sk-toggleable__label {background-color: #d4ebff;}#sk-container-id-2 div.sk-label input.sk-toggleable__control:checked~label.sk-toggleable__label {background-color: #d4ebff;}#sk-container-id-2 input.sk-hidden--visually {border: 0;clip: rect(1px 1px 1px 1px);clip: rect(1px, 1px, 1px, 1px);height: 1px;margin: -1px;overflow: hidden;padding: 0;position: absolute;width: 1px;}#sk-container-id-2 div.sk-estimator {font-family: monospace;background-color: #f0f8ff;border: 1px dotted black;border-radius: 0.25em;box-sizing: border-box;margin-bottom: 0.5em;}#sk-container-id-2 div.sk-estimator:hover {background-color: #d4ebff;}#sk-container-id-2 div.sk-parallel-item::after {content: \"\";width: 100%;border-bottom: 1px solid gray;flex-grow: 1;}#sk-container-id-2 div.sk-label:hover label.sk-toggleable__label {background-color: #d4ebff;}#sk-container-id-2 div.sk-serial::before {content: \"\";position: absolute;border-left: 1px solid gray;box-sizing: border-box;top: 0;bottom: 0;left: 50%;z-index: 0;}#sk-container-id-2 div.sk-serial {display: flex;flex-direction: column;align-items: center;background-color: white;padding-right: 0.2em;padding-left: 0.2em;position: relative;}#sk-container-id-2 div.sk-item {position: relative;z-index: 1;}#sk-container-id-2 div.sk-parallel {display: flex;align-items: stretch;justify-content: center;background-color: white;position: relative;}#sk-container-id-2 div.sk-item::before, #sk-container-id-2 div.sk-parallel-item::before {content: \"\";position: absolute;border-left: 1px solid gray;box-sizing: border-box;top: 0;bottom: 0;left: 50%;z-index: -1;}#sk-container-id-2 div.sk-parallel-item {display: flex;flex-direction: column;z-index: 1;position: relative;background-color: white;}#sk-container-id-2 div.sk-parallel-item:first-child::after {align-self: flex-end;width: 50%;}#sk-container-id-2 div.sk-parallel-item:last-child::after {align-self: flex-start;width: 50%;}#sk-container-id-2 div.sk-parallel-item:only-child::after {width: 0;}#sk-container-id-2 div.sk-dashed-wrapped {border: 1px dashed gray;margin: 0 0.4em 0.5em 0.4em;box-sizing: border-box;padding-bottom: 0.4em;background-color: white;}#sk-container-id-2 div.sk-label label {font-family: monospace;font-weight: bold;display: inline-block;line-height: 1.2em;}#sk-container-id-2 div.sk-label-container {text-align: center;}#sk-container-id-2 div.sk-container {/* jupyter's `normalize.less` sets `[hidden] { display: none; }` but bootstrap.min.css set `[hidden] { display: none !important; }` so we also need the `!important` here to be able to override the default hidden behavior on the sphinx rendered scikit-learn.org. See: https://github.com/scikit-learn/scikit-learn/issues/21755 */display: inline-block !important;position: relative;}#sk-container-id-2 div.sk-text-repr-fallback {display: none;}</style><div id=\"sk-container-id-2\" class=\"sk-top-container\"><div class=\"sk-text-repr-fallback\"><pre>GridSearchCV(cv=LeaveOneOut(), estimator=KNeighborsClassifier(),\n",
       "             param_grid={&#x27;n_neighbors&#x27;: array([ 1,  2,  3,  4,  5,  6,  7,  8,  9, 10, 11, 12, 13, 14, 15, 16, 17,\n",
       "       18, 19, 20, 21, 22, 23, 24]),\n",
       "                         &#x27;weights&#x27;: [&#x27;uniform&#x27;, &#x27;distance&#x27;]})</pre><b>In a Jupyter environment, please rerun this cell to show the HTML representation or trust the notebook. <br />On GitHub, the HTML representation is unable to render, please try loading this page with nbviewer.org.</b></div><div class=\"sk-container\" hidden><div class=\"sk-item sk-dashed-wrapped\"><div class=\"sk-label-container\"><div class=\"sk-label sk-toggleable\"><input class=\"sk-toggleable__control sk-hidden--visually\" id=\"sk-estimator-id-2\" type=\"checkbox\" ><label for=\"sk-estimator-id-2\" class=\"sk-toggleable__label sk-toggleable__label-arrow\">GridSearchCV</label><div class=\"sk-toggleable__content\"><pre>GridSearchCV(cv=LeaveOneOut(), estimator=KNeighborsClassifier(),\n",
       "             param_grid={&#x27;n_neighbors&#x27;: array([ 1,  2,  3,  4,  5,  6,  7,  8,  9, 10, 11, 12, 13, 14, 15, 16, 17,\n",
       "       18, 19, 20, 21, 22, 23, 24]),\n",
       "                         &#x27;weights&#x27;: [&#x27;uniform&#x27;, &#x27;distance&#x27;]})</pre></div></div></div><div class=\"sk-parallel\"><div class=\"sk-parallel-item\"><div class=\"sk-item\"><div class=\"sk-label-container\"><div class=\"sk-label sk-toggleable\"><input class=\"sk-toggleable__control sk-hidden--visually\" id=\"sk-estimator-id-3\" type=\"checkbox\" ><label for=\"sk-estimator-id-3\" class=\"sk-toggleable__label sk-toggleable__label-arrow\">estimator: KNeighborsClassifier</label><div class=\"sk-toggleable__content\"><pre>KNeighborsClassifier()</pre></div></div></div><div class=\"sk-serial\"><div class=\"sk-item\"><div class=\"sk-estimator sk-toggleable\"><input class=\"sk-toggleable__control sk-hidden--visually\" id=\"sk-estimator-id-4\" type=\"checkbox\" ><label for=\"sk-estimator-id-4\" class=\"sk-toggleable__label sk-toggleable__label-arrow\">KNeighborsClassifier</label><div class=\"sk-toggleable__content\"><pre>KNeighborsClassifier()</pre></div></div></div></div></div></div></div></div></div></div>"
      ],
      "text/plain": [
       "GridSearchCV(cv=LeaveOneOut(), estimator=KNeighborsClassifier(),\n",
       "             param_grid={'n_neighbors': array([ 1,  2,  3,  4,  5,  6,  7,  8,  9, 10, 11, 12, 13, 14, 15, 16, 17,\n",
       "       18, 19, 20, 21, 22, 23, 24]),\n",
       "                         'weights': ['uniform', 'distance']})"
      ]
     },
     "execution_count": 28,
     "metadata": {},
     "output_type": "execute_result"
    }
   ],
   "source": [
    "from sklearn.model_selection import GridSearchCV\n",
    "\n",
    "X_train, X_test, y_train, y_test = train_test_split(df, y, random_state=42)\n",
    "\n",
    "#create new a knn model\n",
    "knn = KNeighborsClassifier()\n",
    "#create a dictionary of all values we want to test for n_neighbors\n",
    "param_grid = {\"n_neighbors\": np.arange(1, 25), \"weights\": [\"uniform\", \"distance\"]}\n",
    "\n",
    "loocv = LeaveOneOut()\n",
    "\n",
    "#use gridsearch to test all values for n_neighbors\n",
    "knn_gscv = GridSearchCV(knn, param_grid, cv=loocv) #can also specify something like cv=5 for a plain KFold \n",
    "#fit model to data\n",
    "knn_gscv.fit(X_train, y_train)"
   ]
  },
  {
   "cell_type": "code",
   "execution_count": 29,
   "metadata": {},
   "outputs": [
    {
     "data": {
      "text/plain": [
       "{'n_neighbors': 14, 'weights': 'uniform'}"
      ]
     },
     "execution_count": 29,
     "metadata": {},
     "output_type": "execute_result"
    }
   ],
   "source": [
    "#check top performing n_neighbors value\n",
    "knn_gscv.best_params_"
   ]
  },
  {
   "cell_type": "code",
   "execution_count": 30,
   "metadata": {},
   "outputs": [
    {
     "name": "stdout",
     "output_type": "stream",
     "text": [
      "<class 'dict'>\n",
      "dict_keys(['mean_fit_time', 'std_fit_time', 'mean_score_time', 'std_score_time', 'param_n_neighbors', 'param_weights', 'params', 'split0_test_score', 'split1_test_score', 'split2_test_score', 'split3_test_score', 'split4_test_score', 'split5_test_score', 'split6_test_score', 'split7_test_score', 'split8_test_score', 'split9_test_score', 'split10_test_score', 'split11_test_score', 'split12_test_score', 'split13_test_score', 'split14_test_score', 'split15_test_score', 'split16_test_score', 'split17_test_score', 'split18_test_score', 'split19_test_score', 'split20_test_score', 'split21_test_score', 'split22_test_score', 'split23_test_score', 'split24_test_score', 'split25_test_score', 'split26_test_score', 'split27_test_score', 'split28_test_score', 'split29_test_score', 'split30_test_score', 'split31_test_score', 'split32_test_score', 'split33_test_score', 'split34_test_score', 'split35_test_score', 'split36_test_score', 'split37_test_score', 'split38_test_score', 'split39_test_score', 'split40_test_score', 'split41_test_score', 'split42_test_score', 'split43_test_score', 'split44_test_score', 'split45_test_score', 'split46_test_score', 'split47_test_score', 'split48_test_score', 'split49_test_score', 'split50_test_score', 'split51_test_score', 'split52_test_score', 'split53_test_score', 'split54_test_score', 'split55_test_score', 'split56_test_score', 'split57_test_score', 'split58_test_score', 'split59_test_score', 'split60_test_score', 'split61_test_score', 'split62_test_score', 'split63_test_score', 'split64_test_score', 'split65_test_score', 'split66_test_score', 'split67_test_score', 'split68_test_score', 'split69_test_score', 'split70_test_score', 'split71_test_score', 'split72_test_score', 'split73_test_score', 'split74_test_score', 'split75_test_score', 'split76_test_score', 'split77_test_score', 'split78_test_score', 'split79_test_score', 'split80_test_score', 'split81_test_score', 'split82_test_score', 'split83_test_score', 'split84_test_score', 'split85_test_score', 'split86_test_score', 'split87_test_score', 'split88_test_score', 'split89_test_score', 'split90_test_score', 'split91_test_score', 'split92_test_score', 'split93_test_score', 'split94_test_score', 'split95_test_score', 'split96_test_score', 'split97_test_score', 'split98_test_score', 'split99_test_score', 'split100_test_score', 'split101_test_score', 'split102_test_score', 'split103_test_score', 'split104_test_score', 'split105_test_score', 'split106_test_score', 'split107_test_score', 'split108_test_score', 'split109_test_score', 'split110_test_score', 'split111_test_score', 'mean_test_score', 'std_test_score', 'rank_test_score'])\n",
      "[0.9375     0.9375     0.91964286 0.9375     0.94642857 0.94642857\n",
      " 0.9375     0.94642857 0.94642857 0.94642857 0.94642857 0.95535714\n",
      " 0.9375     0.9375     0.94642857 0.9375     0.9375     0.94642857\n",
      " 0.9375     0.94642857 0.95535714 0.95535714 0.95535714 0.95535714\n",
      " 0.96428571 0.95535714 0.97321429 0.95535714 0.95535714 0.95535714\n",
      " 0.94642857 0.95535714 0.95535714 0.95535714 0.94642857 0.95535714\n",
      " 0.95535714 0.95535714 0.95535714 0.95535714 0.94642857 0.95535714\n",
      " 0.95535714 0.95535714 0.92857143 0.94642857 0.94642857 0.94642857]\n",
      "(48,)\n",
      "26\n"
     ]
    }
   ],
   "source": [
    "print(type(knn_gscv.cv_results_))\n",
    "print(knn_gscv.cv_results_.keys())\n",
    "print(np.array(knn_gscv.cv_results_[\"mean_test_score\"]))\n",
    "print(np.array(knn_gscv.cv_results_[\"mean_test_score\"]).shape)\n",
    "print(np.argmax(np.array(knn_gscv.cv_results_[\"mean_test_score\"])))"
   ]
  },
  {
   "cell_type": "markdown",
   "metadata": {},
   "source": [
    "##### 3.2 Random Search"
   ]
  },
  {
   "cell_type": "code",
   "execution_count": 31,
   "metadata": {},
   "outputs": [
    {
     "data": {
      "text/html": [
       "<style>#sk-container-id-3 {color: black;}#sk-container-id-3 pre{padding: 0;}#sk-container-id-3 div.sk-toggleable {background-color: white;}#sk-container-id-3 label.sk-toggleable__label {cursor: pointer;display: block;width: 100%;margin-bottom: 0;padding: 0.3em;box-sizing: border-box;text-align: center;}#sk-container-id-3 label.sk-toggleable__label-arrow:before {content: \"▸\";float: left;margin-right: 0.25em;color: #696969;}#sk-container-id-3 label.sk-toggleable__label-arrow:hover:before {color: black;}#sk-container-id-3 div.sk-estimator:hover label.sk-toggleable__label-arrow:before {color: black;}#sk-container-id-3 div.sk-toggleable__content {max-height: 0;max-width: 0;overflow: hidden;text-align: left;background-color: #f0f8ff;}#sk-container-id-3 div.sk-toggleable__content pre {margin: 0.2em;color: black;border-radius: 0.25em;background-color: #f0f8ff;}#sk-container-id-3 input.sk-toggleable__control:checked~div.sk-toggleable__content {max-height: 200px;max-width: 100%;overflow: auto;}#sk-container-id-3 input.sk-toggleable__control:checked~label.sk-toggleable__label-arrow:before {content: \"▾\";}#sk-container-id-3 div.sk-estimator input.sk-toggleable__control:checked~label.sk-toggleable__label {background-color: #d4ebff;}#sk-container-id-3 div.sk-label input.sk-toggleable__control:checked~label.sk-toggleable__label {background-color: #d4ebff;}#sk-container-id-3 input.sk-hidden--visually {border: 0;clip: rect(1px 1px 1px 1px);clip: rect(1px, 1px, 1px, 1px);height: 1px;margin: -1px;overflow: hidden;padding: 0;position: absolute;width: 1px;}#sk-container-id-3 div.sk-estimator {font-family: monospace;background-color: #f0f8ff;border: 1px dotted black;border-radius: 0.25em;box-sizing: border-box;margin-bottom: 0.5em;}#sk-container-id-3 div.sk-estimator:hover {background-color: #d4ebff;}#sk-container-id-3 div.sk-parallel-item::after {content: \"\";width: 100%;border-bottom: 1px solid gray;flex-grow: 1;}#sk-container-id-3 div.sk-label:hover label.sk-toggleable__label {background-color: #d4ebff;}#sk-container-id-3 div.sk-serial::before {content: \"\";position: absolute;border-left: 1px solid gray;box-sizing: border-box;top: 0;bottom: 0;left: 50%;z-index: 0;}#sk-container-id-3 div.sk-serial {display: flex;flex-direction: column;align-items: center;background-color: white;padding-right: 0.2em;padding-left: 0.2em;position: relative;}#sk-container-id-3 div.sk-item {position: relative;z-index: 1;}#sk-container-id-3 div.sk-parallel {display: flex;align-items: stretch;justify-content: center;background-color: white;position: relative;}#sk-container-id-3 div.sk-item::before, #sk-container-id-3 div.sk-parallel-item::before {content: \"\";position: absolute;border-left: 1px solid gray;box-sizing: border-box;top: 0;bottom: 0;left: 50%;z-index: -1;}#sk-container-id-3 div.sk-parallel-item {display: flex;flex-direction: column;z-index: 1;position: relative;background-color: white;}#sk-container-id-3 div.sk-parallel-item:first-child::after {align-self: flex-end;width: 50%;}#sk-container-id-3 div.sk-parallel-item:last-child::after {align-self: flex-start;width: 50%;}#sk-container-id-3 div.sk-parallel-item:only-child::after {width: 0;}#sk-container-id-3 div.sk-dashed-wrapped {border: 1px dashed gray;margin: 0 0.4em 0.5em 0.4em;box-sizing: border-box;padding-bottom: 0.4em;background-color: white;}#sk-container-id-3 div.sk-label label {font-family: monospace;font-weight: bold;display: inline-block;line-height: 1.2em;}#sk-container-id-3 div.sk-label-container {text-align: center;}#sk-container-id-3 div.sk-container {/* jupyter's `normalize.less` sets `[hidden] { display: none; }` but bootstrap.min.css set `[hidden] { display: none !important; }` so we also need the `!important` here to be able to override the default hidden behavior on the sphinx rendered scikit-learn.org. See: https://github.com/scikit-learn/scikit-learn/issues/21755 */display: inline-block !important;position: relative;}#sk-container-id-3 div.sk-text-repr-fallback {display: none;}</style><div id=\"sk-container-id-3\" class=\"sk-top-container\"><div class=\"sk-text-repr-fallback\"><pre>RandomizedSearchCV(cv=LeaveOneOut(), estimator=KNeighborsClassifier(),\n",
       "                   param_distributions={&#x27;n_neighbors&#x27;: array([ 1,  2,  3,  4,  5,  6,  7,  8,  9, 10, 11, 12, 13, 14, 15, 16, 17,\n",
       "       18, 19, 20, 21, 22, 23, 24]),\n",
       "                                        &#x27;weights&#x27;: [&#x27;uniform&#x27;, &#x27;distance&#x27;]})</pre><b>In a Jupyter environment, please rerun this cell to show the HTML representation or trust the notebook. <br />On GitHub, the HTML representation is unable to render, please try loading this page with nbviewer.org.</b></div><div class=\"sk-container\" hidden><div class=\"sk-item sk-dashed-wrapped\"><div class=\"sk-label-container\"><div class=\"sk-label sk-toggleable\"><input class=\"sk-toggleable__control sk-hidden--visually\" id=\"sk-estimator-id-5\" type=\"checkbox\" ><label for=\"sk-estimator-id-5\" class=\"sk-toggleable__label sk-toggleable__label-arrow\">RandomizedSearchCV</label><div class=\"sk-toggleable__content\"><pre>RandomizedSearchCV(cv=LeaveOneOut(), estimator=KNeighborsClassifier(),\n",
       "                   param_distributions={&#x27;n_neighbors&#x27;: array([ 1,  2,  3,  4,  5,  6,  7,  8,  9, 10, 11, 12, 13, 14, 15, 16, 17,\n",
       "       18, 19, 20, 21, 22, 23, 24]),\n",
       "                                        &#x27;weights&#x27;: [&#x27;uniform&#x27;, &#x27;distance&#x27;]})</pre></div></div></div><div class=\"sk-parallel\"><div class=\"sk-parallel-item\"><div class=\"sk-item\"><div class=\"sk-label-container\"><div class=\"sk-label sk-toggleable\"><input class=\"sk-toggleable__control sk-hidden--visually\" id=\"sk-estimator-id-6\" type=\"checkbox\" ><label for=\"sk-estimator-id-6\" class=\"sk-toggleable__label sk-toggleable__label-arrow\">estimator: KNeighborsClassifier</label><div class=\"sk-toggleable__content\"><pre>KNeighborsClassifier()</pre></div></div></div><div class=\"sk-serial\"><div class=\"sk-item\"><div class=\"sk-estimator sk-toggleable\"><input class=\"sk-toggleable__control sk-hidden--visually\" id=\"sk-estimator-id-7\" type=\"checkbox\" ><label for=\"sk-estimator-id-7\" class=\"sk-toggleable__label sk-toggleable__label-arrow\">KNeighborsClassifier</label><div class=\"sk-toggleable__content\"><pre>KNeighborsClassifier()</pre></div></div></div></div></div></div></div></div></div></div>"
      ],
      "text/plain": [
       "RandomizedSearchCV(cv=LeaveOneOut(), estimator=KNeighborsClassifier(),\n",
       "                   param_distributions={'n_neighbors': array([ 1,  2,  3,  4,  5,  6,  7,  8,  9, 10, 11, 12, 13, 14, 15, 16, 17,\n",
       "       18, 19, 20, 21, 22, 23, 24]),\n",
       "                                        'weights': ['uniform', 'distance']})"
      ]
     },
     "execution_count": 31,
     "metadata": {},
     "output_type": "execute_result"
    }
   ],
   "source": [
    "from sklearn.model_selection import RandomizedSearchCV\n",
    "\n",
    "X_train, X_test, y_train, y_test = train_test_split(df, y, random_state=42)\n",
    "\n",
    "#create new a knn model\n",
    "knn = KNeighborsClassifier()\n",
    "#create a dictionary of all values we want to test for n_neighbors\n",
    "param_grid = {\"n_neighbors\": np.arange(1, 25), \"weights\": [\"uniform\", \"distance\"]}\n",
    "\n",
    "loocv = LeaveOneOut()\n",
    "\n",
    "#use gridsearch to test all values for n_neighbors\n",
    "knn_rscv = RandomizedSearchCV(knn, param_grid, cv=loocv) #can also specify something like cv=5 for a plain KFold \n",
    "#fit model to data\n",
    "knn_rscv.fit(X_train, y_train)"
   ]
  },
  {
   "cell_type": "code",
   "execution_count": 32,
   "metadata": {},
   "outputs": [
    {
     "data": {
      "text/plain": [
       "{'weights': 'distance', 'n_neighbors': 12}"
      ]
     },
     "execution_count": 32,
     "metadata": {},
     "output_type": "execute_result"
    }
   ],
   "source": [
    "#check top performing n_neighbors value\n",
    "knn_rscv.best_params_"
   ]
  },
  {
   "cell_type": "code",
   "execution_count": 33,
   "metadata": {},
   "outputs": [
    {
     "name": "stdout",
     "output_type": "stream",
     "text": [
      "<class 'dict'>\n",
      "dict_keys(['mean_fit_time', 'std_fit_time', 'mean_score_time', 'std_score_time', 'param_weights', 'param_n_neighbors', 'params', 'split0_test_score', 'split1_test_score', 'split2_test_score', 'split3_test_score', 'split4_test_score', 'split5_test_score', 'split6_test_score', 'split7_test_score', 'split8_test_score', 'split9_test_score', 'split10_test_score', 'split11_test_score', 'split12_test_score', 'split13_test_score', 'split14_test_score', 'split15_test_score', 'split16_test_score', 'split17_test_score', 'split18_test_score', 'split19_test_score', 'split20_test_score', 'split21_test_score', 'split22_test_score', 'split23_test_score', 'split24_test_score', 'split25_test_score', 'split26_test_score', 'split27_test_score', 'split28_test_score', 'split29_test_score', 'split30_test_score', 'split31_test_score', 'split32_test_score', 'split33_test_score', 'split34_test_score', 'split35_test_score', 'split36_test_score', 'split37_test_score', 'split38_test_score', 'split39_test_score', 'split40_test_score', 'split41_test_score', 'split42_test_score', 'split43_test_score', 'split44_test_score', 'split45_test_score', 'split46_test_score', 'split47_test_score', 'split48_test_score', 'split49_test_score', 'split50_test_score', 'split51_test_score', 'split52_test_score', 'split53_test_score', 'split54_test_score', 'split55_test_score', 'split56_test_score', 'split57_test_score', 'split58_test_score', 'split59_test_score', 'split60_test_score', 'split61_test_score', 'split62_test_score', 'split63_test_score', 'split64_test_score', 'split65_test_score', 'split66_test_score', 'split67_test_score', 'split68_test_score', 'split69_test_score', 'split70_test_score', 'split71_test_score', 'split72_test_score', 'split73_test_score', 'split74_test_score', 'split75_test_score', 'split76_test_score', 'split77_test_score', 'split78_test_score', 'split79_test_score', 'split80_test_score', 'split81_test_score', 'split82_test_score', 'split83_test_score', 'split84_test_score', 'split85_test_score', 'split86_test_score', 'split87_test_score', 'split88_test_score', 'split89_test_score', 'split90_test_score', 'split91_test_score', 'split92_test_score', 'split93_test_score', 'split94_test_score', 'split95_test_score', 'split96_test_score', 'split97_test_score', 'split98_test_score', 'split99_test_score', 'split100_test_score', 'split101_test_score', 'split102_test_score', 'split103_test_score', 'split104_test_score', 'split105_test_score', 'split106_test_score', 'split107_test_score', 'split108_test_score', 'split109_test_score', 'split110_test_score', 'split111_test_score', 'mean_test_score', 'std_test_score', 'rank_test_score'])\n",
      "[0.94642857 0.95535714 0.95535714 0.95535714 0.95535714 0.94642857\n",
      " 0.9375     0.95535714 0.95535714 0.94642857]\n",
      "(10,)\n",
      "1\n"
     ]
    }
   ],
   "source": [
    "print(type(knn_rscv.cv_results_))\n",
    "print(knn_rscv.cv_results_.keys())\n",
    "print(np.array(knn_rscv.cv_results_[\"mean_test_score\"]))\n",
    "print(np.array(knn_rscv.cv_results_[\"mean_test_score\"]).shape)\n",
    "print(np.argmax(np.array(knn_rscv.cv_results_[\"mean_test_score\"])))"
   ]
  },
  {
   "cell_type": "markdown",
   "metadata": {},
   "source": [
    "<a id='beyond-gridsearch'></a>\n",
    "<hr/>"
   ]
  },
  {
   "cell_type": "markdown",
   "metadata": {},
   "source": [
    "### 4 Beyond GridSearch - Lack of stability even after GridSearchCV (Optional)\n",
    "\n",
    "1. We run the KFold CV with two different data split and demonstrate that the k obtained even after Cross validation is not sufficient.\n",
    "2. Then we switch to LOOCV with different distance metric and repeat the process along with different train test split. This would have been generally achieved by a GridSearchCV in general.\n",
    "3. With the above two experiments we can conclude that even LOOCV based Grid Search is not going to be robust in selecting a good k value.\n",
    "4. Then we adopt a totally different approach of different train test split and running LOOCV and take a set intesection on the last 5 best scores. These methods from less charted path are generally used in Kaggle competitions  \n",
    "\n",
    "##### 4.1 KFold CV with one variety of train test split"
   ]
  },
  {
   "cell_type": "code",
   "execution_count": 34,
   "metadata": {},
   "outputs": [],
   "source": [
    "# We start by making a function out of KFold CV for reuse\n",
    "def knn_kfold_cv(X_train, y_train, mink=1, maxk=25):\n",
    "    k_range = list(range(mink, maxk))\n",
    "    k_avg_scores = []\n",
    "    for k in k_range:\n",
    "        knn = KNeighborsClassifier(n_neighbors=k)\n",
    "        scores = cross_val_score(knn, X_train, y_train, cv=5, scoring='accuracy')\n",
    "        k_avg_scores.append(scores.mean())\n",
    "\n",
    "    return k_avg_scores"
   ]
  },
  {
   "cell_type": "code",
   "execution_count": 35,
   "metadata": {},
   "outputs": [
    {
     "data": {
      "image/png": "[encoded data removed]",
      "text/plain": [
       "<Figure size 1000x600 with 2 Axes>"
      ]
     },
     "metadata": {},
     "output_type": "display_data"
    }
   ],
   "source": [
    "k_range = list(range(1, 25))\n",
    "\n",
    "fig, axes = plt.subplots(nrows=1, ncols=2, sharex=True, figsize=(10, 6))\n",
    "\n",
    "X_train, X_test, y_train, y_test = train_test_split(df, y, random_state=4)\n",
    "k_avg_scores1 = knn_kfold_cv(X_train, y_train, mink=1, maxk=25)\n",
    "\n",
    "axes[0].plot(k_range, k_avg_scores1) #plt.plot(k_range, k_avg_scores)\n",
    "axes[0].set_xlabel('k for KNN') #plt.xlabel('k for KNN')\n",
    "axes[0].set_ylabel('CV Accuracy') #plt.ylabel('CV Accuracy')\n",
    "\n",
    "\n",
    "X_train, X_test, y_train, y_test = train_test_split(df, y, random_state=42)\n",
    "k_avg_scores2 = knn_kfold_cv(X_train, y_train, mink=1, maxk=25)\n",
    "\n",
    "axes[1].plot(k_range, k_avg_scores2)\n",
    "axes[1].set_xlabel('k for KNN')\n",
    "axes[1].set_ylabel('CV Accuracy')\n",
    "\n",
    "plt.show()"
   ]
  },
  {
   "cell_type": "markdown",
   "metadata": {},
   "source": [
    "##### 4.2 LOOCV with different train test split"
   ]
  },
  {
   "cell_type": "code",
   "execution_count": 36,
   "metadata": {},
   "outputs": [],
   "source": [
    "# For this purpose, we start by making a function out of CV\n",
    "def knn_loocv(X_train, y_train, mink=1, maxk=25):\n",
    "    k_range = list(range(mink, maxk))\n",
    "    k_avg_scores = []\n",
    "    for k in k_range:\n",
    "        knn = KNeighborsClassifier(n_neighbors=k, weights=\"distance\")\n",
    "        loocv = LeaveOneOut()\n",
    "        scores = cross_val_score(knn, X_train, y_train, cv=loocv, scoring='accuracy')\n",
    "        k_avg_scores.append(scores.mean())\n",
    "\n",
    "    return k_avg_scores"
   ]
  },
  {
   "cell_type": "code",
   "execution_count": 37,
   "metadata": {},
   "outputs": [
    {
     "data": {
      "image/png": "[encoded data removed]",
      "text/plain": [
       "<Figure size 1000x600 with 2 Axes>"
      ]
     },
     "metadata": {},
     "output_type": "display_data"
    }
   ],
   "source": [
    "k_range = list(range(1, 25))\n",
    "\n",
    "fig, axes = plt.subplots(nrows=1, ncols=2, sharex=True, figsize=(10, 6))\n",
    "\n",
    "X_train, X_test, y_train, y_test = train_test_split(df, y, random_state=4)\n",
    "k_avg_scores1 = knn_loocv(X_train, y_train, mink=1, maxk=25)\n",
    "\n",
    "axes[0].plot(k_range, k_avg_scores1) #plt.plot(k_range, k_avg_scores)\n",
    "axes[0].set_xlabel('k for KNN') #plt.xlabel('k for KNN')\n",
    "axes[0].set_ylabel('CV Accuracy') #plt.ylabel('CV Accuracy')\n",
    "\n",
    "\n",
    "X_train, X_test, y_train, y_test = train_test_split(df, y, random_state=42)\n",
    "k_avg_scores2 = knn_loocv(X_train, y_train, mink=1, maxk=25)\n",
    "\n",
    "axes[1].plot(k_range, k_avg_scores2)\n",
    "axes[1].set_xlabel('k for KNN')\n",
    "axes[1].set_ylabel('CV Accuracy')\n",
    "\n",
    "plt.show()"
   ]
  },
  {
   "cell_type": "markdown",
   "metadata": {},
   "source": [
    "1. Intersection over the top5 score of both cross validation over different splits \n",
    "2. This is follwoeds by set intersection over the top 5 scores gives best and robust solution\n",
    "\n",
    "This comes atr a big cost. Lot more computing"
   ]
  },
  {
   "cell_type": "code",
   "execution_count": 38,
   "metadata": {},
   "outputs": [
    {
     "data": {
      "text/plain": [
       "{11}"
      ]
     },
     "execution_count": 38,
     "metadata": {},
     "output_type": "execute_result"
    }
   ],
   "source": [
    "max5_set1 = set(np.argsort(np.array(k_avg_scores1))[-5:])\n",
    "max5_set2 = set(np.argsort(np.array(k_avg_scores2))[-5:])\n",
    "\n",
    "max5_set1.intersection(max5_set2)"
   ]
  },
  {
   "cell_type": "markdown",
   "metadata": {},
   "source": [
    "<a id='cv-from-scratch'></a>\n",
    "<hr/>"
   ]
  },
  {
   "cell_type": "markdown",
   "metadata": {},
   "source": [
    "### 5. Cross validation from scratch (not exactly scratch scratch)"
   ]
  },
  {
   "cell_type": "code",
   "execution_count": 39,
   "metadata": {},
   "outputs": [
    {
     "name": "stdout",
     "output_type": "stream",
     "text": [
      "Iteration                     Training set indices                      Validation set indices\n",
      "    1     [ 5  6  7  8  9 10 11 12 13 14 15 16 17 18 19 20 21 22 23 24]        [0 1 2 3 4]       \n",
      "    2     [ 0  1  2  3  4 10 11 12 13 14 15 16 17 18 19 20 21 22 23 24]        [5 6 7 8 9]       \n",
      "    3     [ 0  1  2  3  4  5  6  7  8  9 15 16 17 18 19 20 21 22 23 24]     [10 11 12 13 14]     \n",
      "    4     [ 0  1  2  3  4  5  6  7  8  9 10 11 12 13 14 20 21 22 23 24]     [15 16 17 18 19]     \n",
      "    5     [ 0  1  2  3  4  5  6  7  8  9 10 11 12 13 14 15 16 17 18 19]     [20 21 22 23 24]     \n"
     ]
    }
   ],
   "source": [
    "# Demonstrating data split in K-Fold Cross validation\n",
    "\n",
    "from sklearn.model_selection import KFold\n",
    "\n",
    "kf = KFold(n_splits=5, shuffle=False)\n",
    "\n",
    "#dummy data\n",
    "data = range(25)\n",
    "\n",
    "# print the contents of training and testing set\n",
    "print('{} {:^61} {}'.format('Iteration', 'Training set indices', 'Validation set indices'))\n",
    "iter_idx = 1\n",
    "for train_idx, val_idx in kf.split(data):\n",
    "    print('{:^9} {} {:^25}'.format(iter_idx, train_idx, str(val_idx)))\n",
    "    iter_idx += 1"
   ]
  },
  {
   "cell_type": "code",
   "execution_count": 40,
   "metadata": {},
   "outputs": [
    {
     "name": "stdout",
     "output_type": "stream",
     "text": [
      "Iteration 0 score: 0.9565217391304348\n",
      "Iteration 1 score: 0.9130434782608695\n",
      "Iteration 2 score: 0.9545454545454546\n",
      "Iteration 3 score: 0.9545454545454546\n",
      "Iteration 4 score: 1.0\n",
      "Average CV accuracy for k=2 is 0.9557312252964426\n"
     ]
    }
   ],
   "source": [
    "# Cross validation from scratch with k=2\n",
    "\n",
    "k_knn = 2 #How many k to use in kNN\n",
    "\n",
    "kfold_splits = 5 # how many splits in K-Fold CV\n",
    "\n",
    "kf = KFold(n_splits=kfold_splits, shuffle=False) #create the KFold object\n",
    "\n",
    "iter_idx = 0 # This looping cannot be obtained by enumerate. Hence manually defined\n",
    "\n",
    "accuracy_arr = np.empty(kfold_splits) #To store the accuracy of each iter in CV\n",
    "\n",
    "X_train, X_test, y_train, y_test = train_test_split(df, y, random_state=4)\n",
    "\n",
    "# kf.split returns indices on X_train \n",
    "for train_idx, val_idx in kf.split(X_train):\n",
    "\n",
    "    # split the original X_train into train and val data for this iter \n",
    "    X_train_cv = X_train.iloc[train_idx]\n",
    "    y_train_cv = y_train[train_idx]\n",
    "\n",
    "    X_val_cv =  X_train.iloc[val_idx]\n",
    "    y_val_cv = y_train[val_idx]\n",
    "\n",
    "    knn = KNeighborsClassifier(n_neighbors=k_knn)\n",
    "    knn.fit(X_train_cv, y_train_cv)\n",
    "    y_pred_cv = knn.predict(X_val_cv)\n",
    "    accuracy = metrics.accuracy_score(y_val_cv, y_pred_cv)\n",
    "   \n",
    "    print(f\"Iteration {iter_idx} score: {accuracy}\")\n",
    "\n",
    "    #store the accuracy of this iter in arr to calc mean accuracy later\n",
    "    accuracy_arr[iter_idx] = accuracy\n",
    "    iter_idx += 1\n",
    "\n",
    "print(f\"Average CV accuracy for k={k_knn} is {np.mean(accuracy_arr)}\")"
   ]
  },
  {
   "cell_type": "markdown",
   "metadata": {},
   "source": [
    "<a id='train-test-scratch'></a>\n",
    "<hr/>"
   ]
  },
  {
   "cell_type": "markdown",
   "metadata": {},
   "source": [
    "## Assignments\n",
    "\n",
    "### 1. train test split from scratch\n",
    "\n",
    "Create a function my_train_test_split() that takes ipnput X, y and fraction of train. And ouputs the list or tuple containing splits"
   ]
  },
  {
   "cell_type": "code",
   "execution_count": 48,
   "metadata": {},
   "outputs": [
    {
     "name": "stdout",
     "output_type": "stream",
     "text": [
      "data:\n",
      "[[ 1  2  0]\n",
      " [ 3  4  1]\n",
      " [ 5  6  1]\n",
      " [ 7  8  0]\n",
      " [ 9 10  1]\n",
      " [11 12  0]]\n",
      "\n",
      "X_train:\n",
      "[[1 2]\n",
      " [3 4]\n",
      " [5 6]\n",
      " [7 8]]\n",
      "\n",
      "y_train:\n",
      "[0 1 1 0]\n",
      "\n",
      "y_train:\n",
      "[[ 9 10]\n",
      " [11 12]]\n",
      "\n",
      "y_test:\n",
      "[1 0]\n"
     ]
    }
   ],
   "source": [
    "#Clue 1: Splitting the data sequentially for a given fraction\n",
    "\n",
    "data = np.array([[1, 2, 0], [3, 4, 1], [5, 6, 1], [7, 8, 0], [9, 10, 1], [11, 12, 0]])\n",
    "print('data:')\n",
    "print(data)\n",
    "\n",
    "# Train part of the data\n",
    "split = int(0.8*data.shape[0])\n",
    "X_train = data[:split, :-1]\n",
    "y_train = data[:split, -1]\n",
    "\n",
    "print('\\nX_train:')\n",
    "print(X_train)\n",
    "print('\\ny_train:')\n",
    "print(y_train)\n",
    "\n",
    "# The test part of the data\n",
    "X_test = data[split:, :-1]\n",
    "y_test = data[split:, -1]\n",
    "\n",
    "print('\\ny_train:')\n",
    "print(X_test)\n",
    "\n",
    "print('\\ny_test:')\n",
    "print(y_test)"
   ]
  },
  {
   "cell_type": "code",
   "execution_count": 49,
   "metadata": {},
   "outputs": [
    {
     "name": "stdout",
     "output_type": "stream",
     "text": [
      "[1 0 3 2]\n",
      "<class 'numpy.ndarray'>\n",
      "3\n"
     ]
    },
    {
     "data": {
      "text/plain": [
       "array([1, 0, 3])"
      ]
     },
     "execution_count": 49,
     "metadata": {},
     "output_type": "execute_result"
    }
   ],
   "source": [
    "#Clue2: splitting data randomly\n",
    "data = np.array([[1, 2, 0], [3, 4, 1], [5, 6, 1], [7, 8, 0]])\n",
    "num_samples = data.shape[0]\n",
    "ind = np.random.choice(num_samples, num_samples, replace = False)\n",
    "print(ind)\n",
    "print(type(ind))\n",
    "split = int(0.8*num_samples)\n",
    "print(split)\n",
    "ind[:split]"
   ]
  },
  {
   "cell_type": "code",
   "execution_count": 50,
   "metadata": {},
   "outputs": [],
   "source": [
    "import numpy as np\n",
    "\n",
    "def my_train_test_split(X, y, train_fraction):\n",
    "\n",
    "    if len(X) != len(y):\n",
    "        raise ValueError(\"Input data and labels must have the same length\")\n",
    "\n",
    "    X = np.array(X)\n",
    "    y = np.array(y)\n",
    "\n",
    "\n",
    "    num_samples = len(X)\n",
    "    num_train_samples = int(train_fraction * num_samples)\n",
    "\n",
    "\n",
    "    index_list = np.random.choice(num_samples, num_samples, replace=False)\n",
    "\n",
    "\n",
    "    X_train = X[index_list[:num_train_samples]]\n",
    "    y_train = y[index_list[:num_train_samples]]\n",
    "    X_test = X[index_list[num_train_samples:]]\n",
    "    y_test = y[index_list[num_train_samples:]]\n",
    "\n",
    "    return X_train, y_train, X_test, y_test\n"
   ]
  },
  {
   "cell_type": "code",
   "execution_count": 44,
   "metadata": {},
   "outputs": [
    {
     "name": "stdout",
     "output_type": "stream",
     "text": [
      "X_train: [ 1  9  5 10  4  2  6]\n",
      "y_train: ['A' 'I' 'E' 'J' 'D' 'B' 'F']\n",
      "X_test: [3 8 7]\n",
      "y_test: ['C' 'H' 'G']\n"
     ]
    }
   ],
   "source": [
    "X = [1, 2, 3, 4, 5, 6, 7, 8, 9, 10]\n",
    "y = ['A', 'B', 'C', 'D', 'E', 'F', 'G', 'H', 'I', 'J']\n",
    "train_fraction = 0.7\n",
    "\n",
    "X_train, y_train, X_test, y_test = my_train_test_split(X, y, train_fraction)\n",
    "\n",
    "print(\"X_train:\", X_train)\n",
    "print(\"y_train:\", y_train)\n",
    "print(\"X_test:\", X_test)\n",
    "print(\"y_test:\", y_test)"
   ]
  },
  {
   "cell_type": "markdown",
   "metadata": {},
   "source": [
    "<a id='knn-scratch'></a>\n",
    "<hr/>"
   ]
  },
  {
   "cell_type": "markdown",
   "metadata": {},
   "source": [
    "### 2. kNN from scratch"
   ]
  },
  {
   "cell_type": "code",
   "execution_count": 51,
   "metadata": {},
   "outputs": [],
   "source": [
    "# KNN class that allows setting the number of neighbours and weight=uniform or distance\n",
    "import numpy as np\n",
    "from sklearn import metrics\n",
    "\n",
    "class KNN:\n",
    "    def __init__(self, n_neighbors=5, weights='uniform'):\n",
    "        self.n_neighbors = n_neighbors\n",
    "        self.weights = weights\n",
    "        self.X_train = None\n",
    "        self.y_train = None\n",
    "\n",
    "    def fit(self, X, y):\n",
    "        self.X_train = X\n",
    "        self.y_train = y\n",
    "\n",
    "    def predict(self, X):\n",
    "        y_pred = np.zeros(X.shape[0])\n",
    "\n",
    "        for i, x in enumerate(X):\n",
    "            \n",
    "            my_distances = np.linalg.norm(self.X_train - x.reshape(1, -1), axis=1)\n",
    "\n",
    "            \n",
    "            k_indices = np.argsort(my_distances)[:self.n_neighbors]\n",
    "\n",
    "            \n",
    "            label_counts = {}\n",
    "            weighted_counts = {}\n",
    "\n",
    "            for index in k_indices:\n",
    "                label = self.y_train[index]\n",
    "                if label not in label_counts:\n",
    "                    label_counts[label] = 0\n",
    "                    weighted_counts[label] = 0\n",
    "\n",
    "                label_counts[label] += 1\n",
    "                if self.weights == 'distance' and my_distances[index] != 0:\n",
    "                    weighted_counts[label] += 1 / my_distances[index]\n",
    "\n",
    "            \n",
    "            if self.weights == 'distance':\n",
    "                predicted_label = max(weighted_counts, key=weighted_counts.get)\n",
    "            else:\n",
    "                predicted_label = max(label_counts, key=label_counts.get)\n",
    "\n",
    "            y_pred[i] = predicted_label\n",
    "\n",
    "        return y_pred\n",
    "\n"
   ]
  },
  {
   "cell_type": "code",
   "execution_count": 52,
   "metadata": {},
   "outputs": [],
   "source": [
    "knn = KNN(n_neighbors=5)\n",
    "knn.fit(X_train, y_train)"
   ]
  },
  {
   "cell_type": "code",
   "execution_count": 53,
   "metadata": {},
   "outputs": [
    {
     "name": "stdout",
     "output_type": "stream",
     "text": [
      "Accuracy = 0.5\n"
     ]
    }
   ],
   "source": [
    "y_pred = knn.predict(X_test) \n",
    "accuracy = metrics.accuracy_score(y_test, y_pred) \n",
    "print(f\"Accuracy = {accuracy}\")"
   ]
  },
  {
   "cell_type": "markdown",
   "metadata": {},
   "source": [
    "<a id='gridsearch-scratch'></a>\n",
    "<hr/>"
   ]
  },
  {
   "cell_type": "markdown",
   "metadata": {},
   "source": [
    "### 3. GridSearch from scratch"
   ]
  },
  {
   "cell_type": "code",
   "execution_count": null,
   "metadata": {},
   "outputs": [],
   "source": [
    "# Clue: Look at itertools.product() functionality in python.\n",
    "# It will allow you to create Cartesian products needed for multiple hyperparam tuning\n",
    "# Use it in a loop to write your custom Grid Search"
   ]
  },
  {
   "cell_type": "code",
   "execution_count": 54,
   "metadata": {},
   "outputs": [
    {
     "name": "stdout",
     "output_type": "stream",
     "text": [
      "3 uniform\n",
      "3 distance\n",
      "5 uniform\n",
      "5 distance\n",
      "7 uniform\n",
      "7 distance\n",
      "Best Hyperparameters: (3, 'uniform')\n",
      "Best Performance: 0.5\n"
     ]
    }
   ],
   "source": [
    "import itertools\n",
    "\n",
    "n_neighbors_options = [3, 5, 7]\n",
    "weights_options = ['uniform', 'distance']\n",
    "\n",
    "hyperparameter_combinations = list(itertools.product(n_neighbors_options, weights_options))\n",
    "\n",
    "best_hyperparameters = None\n",
    "best_performance = float('-inf')\n",
    "\n",
    "def evaluate_model(n_neighbors, weights):\n",
    "    print(n_neighbors, weights)\n",
    "    knn = KNN(n_neighbors=n_neighbors, weights=weights)\n",
    "    knn.fit(X_train, y_train)\n",
    "    y_pred = knn.predict(X_test)\n",
    "    accuracy = metrics.accuracy_score(y_test, y_pred)\n",
    "    return accuracy\n",
    "\n",
    "\n",
    "for hyperparameters in hyperparameter_combinations:\n",
    "    n_neighbors, weights = hyperparameters\n",
    "    performance = evaluate_model(n_neighbors, weights)\n",
    "    \n",
    "    if performance > best_performance:\n",
    "        best_hyperparameters = hyperparameters\n",
    "        best_performance = performance\n",
    "\n",
    "print(\"Best Hyperparameters:\", best_hyperparameters)\n",
    "print(\"Best Performance:\", best_performance)\n"
   ]
  },
  {
   "cell_type": "markdown",
   "metadata": {},
   "source": [
    "<a id='integrate'></a>\n",
    "<hr/>"
   ]
  },
  {
   "cell_type": "markdown",
   "metadata": {},
   "source": [
    "### 4. Integrate your custom code\n",
    "\n",
    "1. Create a dataframe of iris dataset\n",
    "2. Use your custom train test split function to split into train and test\n",
    "3. Use your custom GridSearch on your customKNN class to identify the best k and best weight for iris dataset"
   ]
  },
  {
   "cell_type": "code",
   "execution_count": 55,
   "metadata": {},
   "outputs": [
    {
     "name": "stdout",
     "output_type": "stream",
     "text": [
      "k=1, weight=uniform, Accuracy = 0.9666666666666667\n",
      "k=1, weight=distance, Accuracy = 0.9666666666666667\n",
      "k=3, weight=uniform, Accuracy = 0.9666666666666667\n",
      "k=3, weight=distance, Accuracy = 0.9666666666666667\n",
      "k=5, weight=uniform, Accuracy = 1.0\n",
      "k=5, weight=distance, Accuracy = 1.0\n",
      "k=7, weight=uniform, Accuracy = 1.0\n",
      "k=7, weight=distance, Accuracy = 1.0\n",
      "Best k: 5, Best weight: uniform, Best Accuracy = 1.0\n"
     ]
    }
   ],
   "source": [
    "import numpy as np\n",
    "import pandas as pd\n",
    "from sklearn import datasets\n",
    "from sklearn.metrics import accuracy_score\n",
    "\n",
    "\n",
    "iris = datasets.load_iris()\n",
    "X = iris.data\n",
    "y = iris.target\n",
    "\n",
    "\n",
    "iris_df = pd.DataFrame(data=X, columns=iris.feature_names)\n",
    "iris_df['target'] = y\n",
    "\n",
    "\n",
    "\n",
    "X_train, y_train, X_test, y_test = my_train_test_split(X, y, train_fraction=0.8)\n",
    "\n",
    "\n",
    "\n",
    "k_values = [1,3, 5, 7]\n",
    "weight_options = ['uniform', 'distance']\n",
    "\n",
    "best_accuracy = 0\n",
    "best_k = None\n",
    "best_weight = None\n",
    "\n",
    "\n",
    "for k in k_values:\n",
    "    for weight in weight_options:\n",
    "        \n",
    "        knn = KNN(n_neighbors=k, weights=weight)\n",
    "\n",
    "        knn.fit(X_train, y_train)\n",
    "\n",
    "        y_pred = knn.predict(X_test)\n",
    "\n",
    "        accuracy = accuracy_score(y_test, y_pred)\n",
    "\n",
    "        print(f\"k={k}, weight={weight}, Accuracy = {accuracy}\")\n",
    "\n",
    "        if accuracy > best_accuracy:\n",
    "            best_accuracy = accuracy\n",
    "            best_k = k\n",
    "            best_weight = weight\n",
    "\n",
    "print(f\"Best k: {best_k}, Best weight: {best_weight}, Best Accuracy = {best_accuracy}\")\n"
   ]
  }
 ],
 "metadata": {
  "kernelspec": {
   "display_name": "quickstart",
   "language": "python",
   "name": "python3"
  },
  "language_info": {
   "codemirror_mode": {
    "name": "ipython",
    "version": 3
   },
   "file_extension": ".py",
   "mimetype": "text/x-python",
   "name": "python",
   "nbconvert_exporter": "python",
   "pygments_lexer": "ipython3",
   "version": "3.11.4"
  },
  "orig_nbformat": 4
 },
 "nbformat": 4,
 "nbformat_minor": 2
}
