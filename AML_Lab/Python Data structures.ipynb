{
 "cells": [
  {
   "cell_type": "markdown",
   "id": "3c2ed29a",
   "metadata": {},
   "source": [
    "# Python Built-in Data Structures 101\n",
    "\n",
    "### High level features comparison matrix\n",
    "| Data Structure | Ordered/Unordered | Mutable | Allows Duplicates |\n",
    "| --- | --- | --- | --- |\n",
    "| Lists | Ordered | changeable | duplicates |\n",
    "| Tuple | Ordered | unchangeable | duplicates |\n",
    "| Set | Unordered | changeable | no duplicates |\n",
    "| Dictionary | Unordered | changeable | duplicates |\n",
    "\n",
    "\n",
    "### Data structures will be compared over these operations\n",
    "| No. | Operation | Allowed in | Comments |\n",
    "| --- | --- | --- | --- |\n",
    "| 1. | Init | | |\n",
    "| 2. | Random Access i.e. Indexed/key access | list, tuple, dict | Set cannot be randomly accessed |\n",
    "| 3. | Iteration | all | |\n",
    "| 4. | add content | list, set, dict | |\n",
    "| 5. | replace indexed/key content | list, dict | |\n",
    "| 6. | Delete indexed/key content | list, set, dict | |\n",
    "| 7. | Inplace insert | list, dict | |\n",
    "| 8. | Inplace data structure concatenation | list, set, dict | |\n",
    "| 9. | Merging data structures to form new structure | all | |\n",
    "| 10. | List Slicing | | |"
   ]
  },
  {
   "cell_type": "markdown",
   "id": "d6acca90",
   "metadata": {},
   "source": [
    "## 1. Init - list, tuple, set, dict"
   ]
  },
  {
   "cell_type": "code",
   "execution_count": null,
   "id": "ad908c5b",
   "metadata": {},
   "outputs": [],
   "source": [
    "l = [12, \"Banana\", [1,2,3], (4,5,6)] #list\n",
    "\n",
    "t = (12, \"Banana\", [1,2,3], (4,5,6)) #tuple\n",
    "\n",
    "# list cannot be added to set\n",
    "# s = { 12, \"Banana\", [1,2,3], (4,5,6) } wrong -- unhashable type: 'list'\n",
    "s = { 12, \"Banana\", (4,5,6) } #set\n",
    "\n",
    "d = { \"Val\": 12, \"Fruit\": \"Banana\", \"lst\": [1,2,3], \"tpl\": (4,5,6)} #dict"
   ]
  },
  {
   "cell_type": "markdown",
   "id": "08c00a8f",
   "metadata": {},
   "source": [
    "## 2. Random Access (Only Set cannot be randomly accessed)"
   ]
  },
  {
   "cell_type": "code",
   "execution_count": null,
   "id": "379470af",
   "metadata": {},
   "outputs": [],
   "source": [
    "print(l[1])\n",
    "\n",
    "print(t[2])\n",
    "\n",
    "# print(s[1]) error - 'set' object is not subscriptable\n",
    "\n",
    "print(d[\"Val\"])"
   ]
  },
  {
   "cell_type": "markdown",
   "id": "1ac460d8",
   "metadata": {},
   "source": [
    "## 3. Iteration (Supported by all 4)"
   ]
  },
  {
   "cell_type": "code",
   "execution_count": null,
   "id": "46f4ce86",
   "metadata": {},
   "outputs": [],
   "source": [
    "# list iteration\n",
    "for i in l:\n",
    "    print(i)\n",
    "    \n",
    "print('\\n******\\n')\n",
    "\n",
    "# tuple iteration\n",
    "for j in t:\n",
    "    print(j)\n",
    "    \n",
    "print('\\n******\\n')\n",
    "\n",
    "# set iteration\n",
    "for x in s:  # this is the only access option for set\n",
    "    print(x)\n",
    "    \n",
    "print('\\n******\\n')"
   ]
  },
  {
   "cell_type": "markdown",
   "id": "53af888a",
   "metadata": {},
   "source": [
    "### 3a 4 ways of iterating dict"
   ]
  },
  {
   "cell_type": "code",
   "execution_count": null,
   "id": "ca837684",
   "metadata": {},
   "outputs": [],
   "source": [
    "for key in d:\n",
    "    print(key, \"-->\", d[key])\n",
    "    \n",
    "print('\\n******\\n')\n",
    "\n",
    "for key in d.keys():\n",
    "    print(key, \"-->\", d[key])\n",
    "\n",
    "print('\\n******\\n')\n",
    "\n",
    "for val in d.values():\n",
    "    print(val)\n",
    "    \n",
    "print('\\n******\\n')\n",
    "\n",
    "for key, val in d.items():\n",
    "    print(key, '-->', val)"
   ]
  },
  {
   "cell_type": "markdown",
   "id": "85ae66ec",
   "metadata": {},
   "source": [
    "## 4. Adding content to data structure\n",
    "\n",
    "#### NOTE: Content cannot be added to Tuple since it is Immutable"
   ]
  },
  {
   "cell_type": "code",
   "execution_count": null,
   "id": "03550cb7",
   "metadata": {},
   "outputs": [],
   "source": [
    "# Add contents\n",
    "\n",
    "print(l)\n",
    "l.append(\"Orange)\") # added at end\n",
    "print(l)\n",
    "print('\\n******\\n')\n",
    "\n",
    "# No similar ops for tuple \n",
    "\n",
    "print(s)\n",
    "s.add(\"apple\") #somewhere in set no order\n",
    "print(s)\n",
    "print('\\n******\\n')\n",
    "\n",
    "d[\"newkey\"] = \"new val\" # no order\n",
    "print(d)"
   ]
  },
  {
   "cell_type": "markdown",
   "id": "d4e36f59",
   "metadata": {},
   "source": [
    "## 5. Replace individual contents in place\n",
    "#### NOTE: Content cannot be replaced from Tuple since it is Immutable\n",
    "#### Also, since Set contents cannot be accessed by index, their in-place replacement is not possible"
   ]
  },
  {
   "cell_type": "code",
   "execution_count": null,
   "id": "fdfe4510",
   "metadata": {},
   "outputs": [],
   "source": [
    "print(l)\n",
    "l[3]= \"Pineapple\"\n",
    "print(l)\n",
    "print('\\n******\\n')\n",
    "\n",
    "# tuple is unmodifiable\n",
    "\n",
    "# set contents cannot be accessed by index. hence no replacement\n",
    "\n",
    "print(d)\n",
    "d[\"Fruit\"] = \"Custard Apple\"\n",
    "print(d)"
   ]
  },
  {
   "cell_type": "markdown",
   "id": "3412191b",
   "metadata": {},
   "source": [
    "## 6. Delete individual contents in place\n",
    "#### NOTE: Content cannot be deleted from Tuple since it is Immutable"
   ]
  },
  {
   "cell_type": "code",
   "execution_count": null,
   "id": "acb440f9",
   "metadata": {},
   "outputs": [],
   "source": [
    "print(l)\n",
    "del l[1]\n",
    "print(l)\n",
    "print('\\n******\\n')\n",
    "\n",
    "# tuple is immutable\n",
    "\n",
    "print(s)\n",
    "s.remove(\"Banana\") # KeyError if does not exist\n",
    "print(s)\n",
    "print('\\n******\\n')\n",
    "\n",
    "print(d)\n",
    "del d['newkey'] # KeyError if does not exist\n",
    "print(d)"
   ]
  },
  {
   "cell_type": "markdown",
   "id": "2f529077",
   "metadata": {},
   "source": [
    "## 7. In place insert\n",
    "#### NOTE: Not applicable for Tuple since it is Immutable\n",
    "#### Not applicable for Set since index based access is not possible"
   ]
  },
  {
   "cell_type": "code",
   "execution_count": null,
   "id": "6de6b1fd",
   "metadata": {},
   "outputs": [],
   "source": [
    "print(l)\n",
    "l.insert(2, \"Jackfruit\")\n",
    "print(l)\n",
    "print('\\n******\\n')\n",
    "\n",
    "# no in place insert in tuple\n",
    "\n",
    "# no place defined in set. \n",
    "\n",
    "print(d)\n",
    "d[\"newfruit\"] = \"Pear\" # same as add\n",
    "print(d)"
   ]
  },
  {
   "cell_type": "markdown",
   "id": "d9c0011a",
   "metadata": {},
   "source": [
    "## 8. In place data structure concatenation (bulk)"
   ]
  },
  {
   "cell_type": "code",
   "execution_count": null,
   "id": "f859247c",
   "metadata": {},
   "outputs": [],
   "source": [
    "print(l)\n",
    "l0 = [\"Dragon Fruit\", \"Slide Calipers\"]\n",
    "l.extend(l0)\n",
    "print(l)\n",
    "print('\\n******\\n')\n",
    "\n",
    "print(s)\n",
    "s0 = {\"hehe\", \"hihi\"}\n",
    "s.update(s0)\n",
    "print(s)\n",
    "print('\\n******\\n')\n",
    "\n",
    "print(d)\n",
    "d0 = {\"hehe\": \"Hihi\"}\n",
    "d.update(d0)\n",
    "print(d)"
   ]
  },
  {
   "cell_type": "markdown",
   "id": "619795b9",
   "metadata": {},
   "source": [
    "## 9. Bulk merge with new data structure creation\n",
    "#### Note: can use slicing ops here for list and tuple"
   ]
  },
  {
   "cell_type": "code",
   "execution_count": null,
   "id": "5b344818",
   "metadata": {},
   "outputs": [],
   "source": [
    "l1 = l + [\"game\"] # l+= [\"game\"]\n",
    "print(l1)\n",
    "print(l)\n",
    "print('\\n******\\n')\n",
    "\n",
    "t1 = t + (2,) + (2,3,4)\n",
    "print(t1)\n",
    "print(t)\n",
    "print('\\n******\\n')\n",
    "\n",
    "s1 = {\"hello\", \"world\", \"apple\"}\n",
    "s2 = s | s1  # s.union(s1)\n",
    "print(s2)\n",
    "print(s)\n",
    "print('\\n******\\n')\n",
    "\n",
    "# What is similar operation for dict\n",
    "# Fill this"
   ]
  },
  {
   "cell_type": "markdown",
   "id": "7ffe6d4c",
   "metadata": {},
   "source": [
    "## 10. list slicing ops"
   ]
  },
  {
   "cell_type": "code",
   "execution_count": null,
   "id": "e464c9d8",
   "metadata": {},
   "outputs": [],
   "source": [
    "#for list, changing sublist DOES NOT change main list.  It is a copy\n",
    "lx = [\"1\", 2, 5, \"Orange\", \"Apple\"]\n",
    "ly = lx[1:4]\n",
    "print(ly)\n",
    "ly[0] = \"ZOOM\"\n",
    "print(ly)\n",
    "print(lx)"
   ]
  },
  {
   "cell_type": "code",
   "execution_count": null,
   "id": "c64733eb",
   "metadata": {},
   "outputs": [],
   "source": []
  }
 ],
 "metadata": {
  "kernelspec": {
   "display_name": "Python 3",
   "language": "python",
   "name": "python3"
  },
  "language_info": {
   "codemirror_mode": {
    "name": "ipython",
    "version": 3
   },
   "file_extension": ".py",
   "mimetype": "text/x-python",
   "name": "python",
   "nbconvert_exporter": "python",
   "pygments_lexer": "ipython3",
   "version": "3.9.17"
  }
 },
 "nbformat": 4,
 "nbformat_minor": 5
}
