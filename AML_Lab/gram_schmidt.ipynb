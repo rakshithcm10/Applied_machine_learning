{
 "cells": [
  {
   "cell_type": "code",
   "execution_count": 29,
   "metadata": {},
   "outputs": [],
   "source": [
    "import numpy as np"
   ]
  },
  {
   "cell_type": "code",
   "execution_count": 30,
   "metadata": {},
   "outputs": [],
   "source": [
    "vectors=np.array(\n",
    "    [[0,0,4],\n",
    "     [0,1,1],\n",
    "     [1,1,1]])"
   ]
  },
  {
   "cell_type": "code",
   "execution_count": 31,
   "metadata": {},
   "outputs": [],
   "source": [
    "q1=vectors[0]"
   ]
  },
  {
   "cell_type": "code",
   "execution_count": 32,
   "metadata": {},
   "outputs": [
    {
     "data": {
      "text/plain": [
       "array([0., 0., 1.])"
      ]
     },
     "execution_count": 32,
     "metadata": {},
     "output_type": "execute_result"
    }
   ],
   "source": [
    "q1_normalized=q1/np.linalg.norm(q1)\n",
    "q1_normalized"
   ]
  },
  {
   "cell_type": "code",
   "execution_count": 33,
   "metadata": {},
   "outputs": [],
   "source": [
    "basis=[]\n",
    "basis.append(q1_normalized)"
   ]
  },
  {
   "cell_type": "code",
   "execution_count": 34,
   "metadata": {},
   "outputs": [],
   "source": [
    "q2=vectors[1]-np.dot(q1_normalized,vectors[1])*q1_normalized\n",
    "if np.linalg.norm(q2)<1e-7:\n",
    "    print(\"q2 is depent on q1\")\n",
    "else:\n",
    "    q2_normalized = q2/np.linalg.norm(q2)\n",
    "    basis.append(q2_normalized)\n",
    "    q2_normalized"
   ]
  },
  {
   "cell_type": "code",
   "execution_count": 35,
   "metadata": {},
   "outputs": [
    {
     "data": {
      "text/plain": [
       "[array([0., 0., 1.]), array([0., 1., 0.])]"
      ]
     },
     "execution_count": 35,
     "metadata": {},
     "output_type": "execute_result"
    }
   ],
   "source": [
    "basis"
   ]
  },
  {
   "cell_type": "code",
   "execution_count": 36,
   "metadata": {},
   "outputs": [
    {
     "data": {
      "text/plain": [
       "array([0., 1., 0.])"
      ]
     },
     "execution_count": 36,
     "metadata": {},
     "output_type": "execute_result"
    }
   ],
   "source": [
    "q2_normalized"
   ]
  },
  {
   "cell_type": "code",
   "execution_count": 37,
   "metadata": {},
   "outputs": [],
   "source": [
    "q3=vectors[2]-\\\n",
    "    np.dot(q1_normalized, vectors[2]) * q1_normalized - \\\n",
    "    np.dot(q2_normalized, vectors[2]) * q2_normalized\n",
    "\n",
    "if np.linalg.norm(q3)<1e-7:\n",
    "    print(\"q3 is dependent on q1 and/or q2\")\n",
    "else:\n",
    "    q3_normalized=q3/np.linalg.norm(q3)\n",
    "    basis.append(q3_normalized)\n",
    "    q3_normalized"
   ]
  },
  {
   "cell_type": "code",
   "execution_count": 38,
   "metadata": {},
   "outputs": [
    {
     "data": {
      "text/plain": [
       "array([1., 0., 0.])"
      ]
     },
     "execution_count": 38,
     "metadata": {},
     "output_type": "execute_result"
    }
   ],
   "source": [
    "q3_normalized"
   ]
  },
  {
   "cell_type": "code",
   "execution_count": 39,
   "metadata": {},
   "outputs": [],
   "source": [
    "def gram_schmidt(vectors):\n",
    "    basis=[]\n",
    "    for ai in vectors:\n",
    "        qnew =ai-np.sum(np.dot(ai,qj) * qj for qj in basis )\n",
    "        norm =np.linalg.norm(qnew)\n",
    "        if (norm >1e-10):\n",
    "            basis.append(qnew/norm)\n",
    "        else:\n",
    "            raise Exception(f\"vector {ai} is linearly dependent on others\")\n",
    "    return np.array(basis)"
   ]
  },
  {
   "cell_type": "code",
   "execution_count": 40,
   "metadata": {},
   "outputs": [
    {
     "name": "stderr",
     "output_type": "stream",
     "text": [
      "/var/folders/fx/jqp4w8917kg8hz3_gsxtf9z80000gn/T/ipykernel_3442/3851787547.py:4: DeprecationWarning: Calling np.sum(generator) is deprecated, and in the future will give a different result. Use np.sum(np.fromiter(generator)) or the python sum builtin instead.\n",
      "  qnew =ai-np.sum(np.dot(ai,qj) * qj for qj in basis )\n"
     ]
    },
    {
     "data": {
      "text/plain": [
       "array([[0., 0., 1.],\n",
       "       [0., 1., 0.],\n",
       "       [1., 0., 0.]])"
      ]
     },
     "execution_count": 40,
     "metadata": {},
     "output_type": "execute_result"
    }
   ],
   "source": [
    "gram_schmidt(vectors)"
   ]
  },
  {
   "cell_type": "code",
   "execution_count": 41,
   "metadata": {},
   "outputs": [
    {
     "name": "stderr",
     "output_type": "stream",
     "text": [
      "/var/folders/fx/jqp4w8917kg8hz3_gsxtf9z80000gn/T/ipykernel_3442/3851787547.py:4: DeprecationWarning: Calling np.sum(generator) is deprecated, and in the future will give a different result. Use np.sum(np.fromiter(generator)) or the python sum builtin instead.\n",
      "  qnew =ai-np.sum(np.dot(ai,qj) * qj for qj in basis )\n"
     ]
    },
    {
     "data": {
      "text/plain": [
       "array([[ 5.77350269e-01,  5.77350269e-01,  5.77350269e-01],\n",
       "       [-4.08248290e-01, -4.08248290e-01,  8.16496581e-01],\n",
       "       [-7.07106781e-01,  7.07106781e-01,  3.14018492e-16]])"
      ]
     },
     "execution_count": 41,
     "metadata": {},
     "output_type": "execute_result"
    }
   ],
   "source": [
    "vectors=np.array(\n",
    "    [[1,1,1],\n",
    "     [0,0,4],\n",
    "     [0,1,1],])\n",
    "gram_schmidt(vectors)"
   ]
  },
  {
   "cell_type": "code",
   "execution_count": 42,
   "metadata": {},
   "outputs": [
    {
     "name": "stderr",
     "output_type": "stream",
     "text": [
      "/var/folders/fx/jqp4w8917kg8hz3_gsxtf9z80000gn/T/ipykernel_3442/3851787547.py:4: DeprecationWarning: Calling np.sum(generator) is deprecated, and in the future will give a different result. Use np.sum(np.fromiter(generator)) or the python sum builtin instead.\n",
      "  qnew =ai-np.sum(np.dot(ai,qj) * qj for qj in basis )\n"
     ]
    },
    {
     "ename": "Exception",
     "evalue": "vector [0 0 2] is linearly dependent on others",
     "output_type": "error",
     "traceback": [
      "\u001b[0;31m---------------------------------------------------------------------------\u001b[0m",
      "\u001b[0;31mException\u001b[0m                                 Traceback (most recent call last)",
      "\u001b[1;32m/Applications/MSIS/AML/AML_Lab/gram_schmidt.ipynb Cell 14\u001b[0m line \u001b[0;36m5\n\u001b[1;32m      <a href='vscode-notebook-cell:/Applications/MSIS/AML/AML_Lab/gram_schmidt.ipynb#X20sZmlsZQ%3D%3D?line=0'>1</a>\u001b[0m vectors\u001b[39m=\u001b[39mnp\u001b[39m.\u001b[39marray(\n\u001b[1;32m      <a href='vscode-notebook-cell:/Applications/MSIS/AML/AML_Lab/gram_schmidt.ipynb#X20sZmlsZQ%3D%3D?line=1'>2</a>\u001b[0m     [[\u001b[39m0\u001b[39m,\u001b[39m0\u001b[39m,\u001b[39m4\u001b[39m],\n\u001b[1;32m      <a href='vscode-notebook-cell:/Applications/MSIS/AML/AML_Lab/gram_schmidt.ipynb#X20sZmlsZQ%3D%3D?line=2'>3</a>\u001b[0m      [\u001b[39m0\u001b[39m,\u001b[39m0\u001b[39m,\u001b[39m2\u001b[39m],\n\u001b[1;32m      <a href='vscode-notebook-cell:/Applications/MSIS/AML/AML_Lab/gram_schmidt.ipynb#X20sZmlsZQ%3D%3D?line=3'>4</a>\u001b[0m      [\u001b[39m1\u001b[39m,\u001b[39m1\u001b[39m,\u001b[39m1\u001b[39m]])\n\u001b[0;32m----> <a href='vscode-notebook-cell:/Applications/MSIS/AML/AML_Lab/gram_schmidt.ipynb#X20sZmlsZQ%3D%3D?line=4'>5</a>\u001b[0m gram_schmidt(vectors)\n",
      "\u001b[1;32m/Applications/MSIS/AML/AML_Lab/gram_schmidt.ipynb Cell 14\u001b[0m line \u001b[0;36m9\n\u001b[1;32m      <a href='vscode-notebook-cell:/Applications/MSIS/AML/AML_Lab/gram_schmidt.ipynb#X20sZmlsZQ%3D%3D?line=6'>7</a>\u001b[0m         basis\u001b[39m.\u001b[39mappend(qnew\u001b[39m/\u001b[39mnorm)\n\u001b[1;32m      <a href='vscode-notebook-cell:/Applications/MSIS/AML/AML_Lab/gram_schmidt.ipynb#X20sZmlsZQ%3D%3D?line=7'>8</a>\u001b[0m     \u001b[39melse\u001b[39;00m:\n\u001b[0;32m----> <a href='vscode-notebook-cell:/Applications/MSIS/AML/AML_Lab/gram_schmidt.ipynb#X20sZmlsZQ%3D%3D?line=8'>9</a>\u001b[0m         \u001b[39mraise\u001b[39;00m \u001b[39mException\u001b[39;00m(\u001b[39mf\u001b[39m\u001b[39m\"\u001b[39m\u001b[39mvector \u001b[39m\u001b[39m{\u001b[39;00mai\u001b[39m}\u001b[39;00m\u001b[39m is linearly dependent on others\u001b[39m\u001b[39m\"\u001b[39m)\n\u001b[1;32m     <a href='vscode-notebook-cell:/Applications/MSIS/AML/AML_Lab/gram_schmidt.ipynb#X20sZmlsZQ%3D%3D?line=9'>10</a>\u001b[0m \u001b[39mreturn\u001b[39;00m np\u001b[39m.\u001b[39marray(basis)\n",
      "\u001b[0;31mException\u001b[0m: vector [0 0 2] is linearly dependent on others"
     ]
    }
   ],
   "source": [
    "vectors=np.array(\n",
    "    [[0,0,4],\n",
    "     [0,0,2],\n",
    "     [1,1,1]])\n",
    "gram_schmidt(vectors)"
   ]
  },
  {
   "cell_type": "code",
   "execution_count": null,
   "metadata": {},
   "outputs": [],
   "source": []
  }
 ],
 "metadata": {
  "kernelspec": {
   "display_name": "base",
   "language": "python",
   "name": "python3"
  },
  "language_info": {
   "codemirror_mode": {
    "name": "ipython",
    "version": 3
   },
   "file_extension": ".py",
   "mimetype": "text/x-python",
   "name": "python",
   "nbconvert_exporter": "python",
   "pygments_lexer": "ipython3",
   "version": "3.8.8"
  },
  "orig_nbformat": 4
 },
 "nbformat": 4,
 "nbformat_minor": 2
}
